{
 "cells": [
  {
   "cell_type": "markdown",
   "metadata": {},
   "source": [
    "\n",
    "¡Hola, Andres!\n",
    "\n",
    "Mi nombre es Tonatiuh Cruz. Me complace revisar tu proyecto hoy.\n",
    "\n",
    "Al identificar cualquier error inicialmente, simplemente los destacaré. Te animo a localizar y abordar los problemas de forma independiente como parte de tu preparación para un rol como data-scientist. En un entorno profesional, tu líder de equipo seguiría un enfoque similar. Si encuentras la tarea desafiante, proporcionaré una pista más específica en la próxima iteración.\n",
    "\n",
    "Encontrarás mis comentarios a continuación - **por favor no los muevas, modifiques o elimines**.\n",
    "\n",
    "Puedes encontrar mis comentarios en cajas verdes, amarillas o rojas como esta:\n",
    "\n",
    "<div class=\"alert alert-block alert-success\">\n",
    "<b>Comentario del revisor</b> <a class=\"tocSkip\"></a>\n",
    "\n",
    "Éxito. Todo está hecho correctamente.\n",
    "</div>\n",
    "\n",
    "<div class=\"alert alert-block alert-warning\">\n",
    "<b>Comentario del revisor</b> <a class=\"tocSkip\"></a>\n",
    "\n",
    "Observaciones. Algunas recomendaciones.\n",
    "</div>\n",
    "\n",
    "<div class=\"alert alert-block alert-danger\">\n",
    "<b>Comentario del revisor</b> <a class=\"tocSkip\"></a>\n",
    "\n",
    "Necesita corrección. El bloque requiere algunas correcciones. El trabajo no puede ser aceptado con comentarios en rojo.\n",
    "</div>\n",
    "\n",
    "Puedes responderme utilizando esto:\n",
    "\n",
    "<div class=\"alert alert-block alert-info\">\n",
    "<b>Respuesta del estudiante.</b> <a class=\"tocSkip\"></a>\n",
    "\n"
   ]
  },
  {
   "cell_type": "markdown",
   "metadata": {
    "id": "3rYiDeEH0q0f"
   },
   "source": [
    "# ¿Cuál es la mejor tarifa?\n",
    "\n",
    "Trabajas como analista para el operador de telecomunicaciones Megaline. La empresa ofrece a sus clientes dos tarifas de prepago, Surf y Ultimate. El departamento comercial quiere saber cuál de las tarifas genera más ingresos para poder ajustar el presupuesto de publicidad.\n",
    "\n",
    "Vas a realizar un análisis preliminar de las tarifas basado en una selección de clientes relativamente pequeña. Tendrás los datos de 500 clientes de Megaline: quiénes son los clientes, de dónde son, qué tarifa usan, así como la cantidad de llamadas que hicieron y los mensajes de texto que enviaron en 2018. Tu trabajo es analizar el comportamiento de los clientes y determinar qué tarifa de prepago genera más ingresos."
   ]
  },
  {
   "cell_type": "markdown",
   "metadata": {
    "id": "VNddPNRQ0q0w"
   },
   "source": [
    "<div class=\"alert alert-block alert-info\">\n",
    "El operador Megaline nos ha proporcionado información valiosa sobre el uso que le dan sus clientes a su servicios de telecomunicaciones. Los servicios, que consta de dos planes (Surf y Ultimate), se estan creado con el objetivo que los clientes aprovechen al máximo las llamada, internet y los mensajes.\n",
    "<br/>\n",
    "Cada plan, contiene un costo por si solo, y cada uno incluye topes en cada uno de los servicios, y costos extras si se exceden esos topes de acuerdo al plan. Así que Megaline quiere saber si los clientes están por debajo de esos topes o tal vez, excedidos de ellos mismo.\n",
    "<br/>\n",
    "Un analisis detallado de esto da a Megaline la visión de si sus planes son suficientes, o tal vez sea necesario nuevos planes intermedios o más exclusivos dependiendo del uso real.\n",
    "<br/>\n",
    "Lo que haré como analista de dato, además de confirmar que la data está en las condiciones óptimas para ser analizada, mostraré gráficas de consumos en los tres rubros. Gráficas de los pagos mensuales que se hace por cliente, además de comparaciones entre cada plan. Con esto, Megaline podrá tomar sus propias deciciones.\n",
    "<br/>\n",
    "Finalemente buscaremos probar las hipótesis:\n",
    "</br>\n",
    "El ingreso promedio de los usuarios de las tarifas Ultimate y Surf difiere.\n",
    "</br>\n",
    "El ingreso promedio de los usuarios en el área de estados Nueva York-Nueva Jersey es diferente al de los usuarios de otras regiones.\n",
    "\n",
    "</b> <a class=\"tocSkip\"></a>\n",
    "</div>"
   ]
  },
  {
   "cell_type": "markdown",
   "metadata": {
    "id": "MQi4IPy70q0y"
   },
   "source": [
    "## Inicialización"
   ]
  },
  {
   "cell_type": "code",
   "execution_count": 162,
   "metadata": {
    "id": "MtYIuBxu0q0z"
   },
   "outputs": [],
   "source": [
    "# Cargar todas las librerías\n",
    "import pandas as pd\n",
    "import numpy as np\n",
    "import math\n",
    "from matplotlib import pyplot as plt\n",
    "from scipy import stats as st"
   ]
  },
  {
   "cell_type": "markdown",
   "metadata": {},
   "source": [
    "<div class=\"alert alert-block alert-warning\">\n",
    "<b>Comentario revisor</b> <a class=\"tocSkip\"></a>\n",
    "\n",
    "\n",
    "Recomiendo cargar la libreria math. De esta manera, puedes realizar redondeos con otros métodos. \n",
    "</div>"
   ]
  },
  {
   "cell_type": "markdown",
   "metadata": {},
   "source": [
    "\n",
    "<div class=\"alert alert-block alert-success\">\n",
    "<b>Comentario del revisor</b> <a class=\"tocSkip\"></a>\n",
    "\n",
    "Gran trabajo con el ajuste!"
   ]
  },
  {
   "cell_type": "markdown",
   "metadata": {
    "id": "4ysWWC5i0q00"
   },
   "source": [
    "## Cargar datos"
   ]
  },
  {
   "cell_type": "code",
   "execution_count": 163,
   "metadata": {
    "id": "CCqPW7rS0q01"
   },
   "outputs": [],
   "source": [
    "# Carga los archivos de datos en diferentes DataFrames\n",
    "calls = pd.read_csv('/datasets/megaline_calls.csv')\n",
    "internet = pd.read_csv('/datasets/megaline_internet.csv')\n",
    "messages = pd.read_csv('/datasets/megaline_messages.csv')\n",
    "plans = pd.read_csv('/datasets/megaline_plans.csv')\n",
    "users = pd.read_csv('/datasets/megaline_users.csv')"
   ]
  },
  {
   "cell_type": "markdown",
   "metadata": {
    "id": "69qqoJ3r0q01"
   },
   "source": [
    "## Preparar los datos"
   ]
  },
  {
   "cell_type": "markdown",
   "metadata": {
    "id": "mEc_3_hs0q02"
   },
   "source": [
    "<div class=\"alert alert-block alert-info\">\n",
    "\n",
    "Prepararemos los datos tabla por tabla. En cada tabla nos interesa ver:\n",
    "</br>Si hay nulos o ausentes. \n",
    "</br>Conocer si tenemos imformación duplicada.\n",
    "</br>Tener las columnas con los tipos de datos adecuados para su manejo.\n",
    "</br>Crear columnas que nos servirán para las posteriores uniones entre las mismas tablas.\n",
    "</b> <a class=\"tocSkip\"></a>\n",
    "</div>"
   ]
  },
  {
   "cell_type": "markdown",
   "metadata": {
    "id": "ohBhimvH0q01"
   },
   "source": [
    "## Tarifas"
   ]
  },
  {
   "cell_type": "code",
   "execution_count": 164,
   "metadata": {
    "id": "GptqP3Q40q02"
   },
   "outputs": [
    {
     "name": "stdout",
     "output_type": "stream",
     "text": [
      "<class 'pandas.core.frame.DataFrame'>\n",
      "RangeIndex: 2 entries, 0 to 1\n",
      "Data columns (total 8 columns):\n",
      " #   Column                 Non-Null Count  Dtype  \n",
      "---  ------                 --------------  -----  \n",
      " 0   messages_included      2 non-null      int64  \n",
      " 1   mb_per_month_included  2 non-null      int64  \n",
      " 2   minutes_included       2 non-null      int64  \n",
      " 3   usd_monthly_pay        2 non-null      int64  \n",
      " 4   usd_per_gb             2 non-null      int64  \n",
      " 5   usd_per_message        2 non-null      float64\n",
      " 6   usd_per_minute         2 non-null      float64\n",
      " 7   plan_name              2 non-null      object \n",
      "dtypes: float64(2), int64(5), object(1)\n",
      "memory usage: 256.0+ bytes\n"
     ]
    }
   ],
   "source": [
    "# Imprime la información general/resumida sobre el DataFrame de las tarifas\n",
    "plans.info()"
   ]
  },
  {
   "cell_type": "code",
   "execution_count": 165,
   "metadata": {
    "id": "64xzjwL70q02"
   },
   "outputs": [
    {
     "name": "stdout",
     "output_type": "stream",
     "text": [
      "   messages_included  mb_per_month_included  minutes_included  \\\n",
      "0                 50                  15360               500   \n",
      "1               1000                  30720              3000   \n",
      "\n",
      "   usd_monthly_pay  usd_per_gb  usd_per_message  usd_per_minute plan_name  \n",
      "0               20          10             0.03            0.03      surf  \n",
      "1               70           7             0.01            0.01  ultimate  \n"
     ]
    }
   ],
   "source": [
    "# Imprime una muestra de los datos para las tarifas\n",
    "print(plans)"
   ]
  },
  {
   "cell_type": "markdown",
   "metadata": {
    "id": "mEc_3_hs0q02"
   },
   "source": [
    "<div class=\"alert alert-block alert-info\">\n",
    "\n",
    "La tabla de tarifas consta solo de dos registro que van acorde a lo descrito en al documentación. El único dato que no coincide es el nombre de la columna [usd_monthly_pay], en la documentación esto está descrito como [usd_monthly_fee], no veo necesario renombrar la columnas, solo es saber qué información tenemos en ella.\n",
    "</br>\n",
    "Por otro lado, se observa que \"plan_name\" es un categoría, y está como object, así que haremos ese cambio de tipo.\n",
    "</b> <a class=\"tocSkip\"></a>\n",
    "</div>"
   ]
  },
  {
   "cell_type": "markdown",
   "metadata": {
    "collapsed": false,
    "id": "R3C05i1l0q03",
    "jupyter": {
     "outputs_hidden": false
    }
   },
   "source": [
    "## Corregir datos"
   ]
  },
  {
   "cell_type": "code",
   "execution_count": 166,
   "metadata": {
    "id": "Y7SVmjGn0q03"
   },
   "outputs": [],
   "source": [
    "# Cambiamos el tipo de dato de plan_name a category\n",
    "plans['plan_name'] = plans['plan_name'].astype('category')"
   ]
  },
  {
   "cell_type": "markdown",
   "metadata": {
    "id": "mEc_3_hs0q02"
   },
   "source": [
    "<div class=\"alert alert-block alert-info\">\n",
    "\n",
    "Según la documentación, el cobro de las tarifas del internet, el total de lo consumido en el mes se redondea hacía arriba para cobrar Gigas completos. Lo mismo va a pasar con los minutos de llamdas, así que mantendremos esto en cuenta cuando lleguemos a ello.\n",
    "</b> <a class=\"tocSkip\"></a>\n",
    "</div>"
   ]
  },
  {
   "cell_type": "markdown",
   "metadata": {},
   "source": [
    "\n",
    "<div class=\"alert alert-block alert-warning\">\n",
    "<b>Comentario Revisor</b> <a class=\"tocSkip\"></a>\n",
    "\n",
    "Muy buen trabajo, solamente te sugiero que en este apartado menciones un poco sobre la transformación que se debe realizar de megabytes a gigabytes. \n",
    "</div>"
   ]
  },
  {
   "cell_type": "markdown",
   "metadata": {
    "id": "1n2X6WXf0q04"
   },
   "source": [
    "## Usuarios/as"
   ]
  },
  {
   "cell_type": "code",
   "execution_count": 167,
   "metadata": {},
   "outputs": [
    {
     "name": "stdout",
     "output_type": "stream",
     "text": [
      "<class 'pandas.core.frame.DataFrame'>\n",
      "RangeIndex: 500 entries, 0 to 499\n",
      "Data columns (total 8 columns):\n",
      " #   Column      Non-Null Count  Dtype \n",
      "---  ------      --------------  ----- \n",
      " 0   user_id     500 non-null    int64 \n",
      " 1   first_name  500 non-null    object\n",
      " 2   last_name   500 non-null    object\n",
      " 3   age         500 non-null    int64 \n",
      " 4   city        500 non-null    object\n",
      " 5   reg_date    500 non-null    object\n",
      " 6   plan        500 non-null    object\n",
      " 7   churn_date  34 non-null     object\n",
      "dtypes: int64(2), object(6)\n",
      "memory usage: 31.4+ KB\n"
     ]
    }
   ],
   "source": [
    "# Analizamos los datos de las USERS\n",
    "# Imprime la información general/resumida sobre el DataFrame de usuarios\n",
    "users.info()\n",
    "# Se oberva que la columna churn_date tiene valores nulos"
   ]
  },
  {
   "cell_type": "code",
   "execution_count": 168,
   "metadata": {
    "id": "2NgjWFqx0q05"
   },
   "outputs": [
    {
     "name": "stdout",
     "output_type": "stream",
     "text": [
      "   user_id first_name  last_name  age                                   city  \\\n",
      "0     1000   Anamaria      Bauer   45  Atlanta-Sandy Springs-Roswell, GA MSA   \n",
      "1     1001     Mickey  Wilkerson   28        Seattle-Tacoma-Bellevue, WA MSA   \n",
      "2     1002     Carlee    Hoffman   36   Las Vegas-Henderson-Paradise, NV MSA   \n",
      "3     1003   Reynaldo    Jenkins   52                          Tulsa, OK MSA   \n",
      "4     1004    Leonila   Thompson   40        Seattle-Tacoma-Bellevue, WA MSA   \n",
      "\n",
      "     reg_date      plan churn_date  \n",
      "0  2018-12-24  ultimate        NaN  \n",
      "1  2018-08-13      surf        NaN  \n",
      "2  2018-10-21      surf        NaN  \n",
      "3  2018-01-28      surf        NaN  \n",
      "4  2018-05-23      surf        NaN  \n",
      "La cantidad de valores duplicados son: 0\n"
     ]
    }
   ],
   "source": [
    "# Imprime una muestra de datos para usuarios\n",
    "print(users.head())\n",
    "print(\"La cantidad de valores duplicados son:\",users.duplicated().sum())\n",
    "# se obseva que no tiene valores duplicados"
   ]
  },
  {
   "cell_type": "markdown",
   "metadata": {
    "id": "dCZoUq4f0q06"
   },
   "source": [
    "<div class=\"alert alert-block alert-info\">\n",
    "Se observa que \"churn_date\" tiene valores ausente pero eso es algo esperado, ya que esto significa que al momento de que se cargaron estos datos, ese usuario tenía su plan activo.\n",
    "Por otro lado, la columna [reg_date] está como Object y eso se debería de cambiar como tipo fecha.\n",
    "</b> <a class=\"tocSkip\"></a>\n",
    "</div>"
   ]
  },
  {
   "cell_type": "markdown",
   "metadata": {
    "id": "BX5FQh_I0q06"
   },
   "source": [
    "### Corregir los datos"
   ]
  },
  {
   "cell_type": "code",
   "execution_count": 169,
   "metadata": {
    "id": "yUqX-K0C0q07"
   },
   "outputs": [],
   "source": [
    "# Cambiamos el tipo de dato de reg_date \n",
    "users['reg_date'] =  pd.to_datetime(users['reg_date'], format='%Y-%m-%d')\n",
    "# convertimo en categoría la columnba de \"plan\"\n",
    "users['plan']  =  users['plan'].astype('category')"
   ]
  },
  {
   "cell_type": "markdown",
   "metadata": {
    "id": "o7MeKCid0q08"
   },
   "source": [
    "## Llamadas"
   ]
  },
  {
   "cell_type": "code",
   "execution_count": 170,
   "metadata": {
    "id": "6dDlnoDm0q08"
   },
   "outputs": [
    {
     "name": "stdout",
     "output_type": "stream",
     "text": [
      "<class 'pandas.core.frame.DataFrame'>\n",
      "RangeIndex: 137735 entries, 0 to 137734\n",
      "Data columns (total 4 columns):\n",
      " #   Column     Non-Null Count   Dtype  \n",
      "---  ------     --------------   -----  \n",
      " 0   id         137735 non-null  object \n",
      " 1   user_id    137735 non-null  int64  \n",
      " 2   call_date  137735 non-null  object \n",
      " 3   duration   137735 non-null  float64\n",
      "dtypes: float64(1), int64(1), object(2)\n",
      "memory usage: 4.2+ MB\n"
     ]
    }
   ],
   "source": [
    "# Imprime la información general/resumida sobre el DataFrame de las llamadas\n",
    "calls.info()\n",
    "# Se oberva que no tiene nullos"
   ]
  },
  {
   "cell_type": "code",
   "execution_count": 171,
   "metadata": {
    "id": "kuh1vlNB0q09"
   },
   "outputs": [
    {
     "name": "stdout",
     "output_type": "stream",
     "text": [
      "         id  user_id   call_date  duration\n",
      "0   1000_93     1000  2018-12-27      8.52\n",
      "1  1000_145     1000  2018-12-27     13.66\n",
      "2  1000_247     1000  2018-12-27     14.48\n",
      "3  1000_309     1000  2018-12-28      5.76\n",
      "4  1000_380     1000  2018-12-30      4.22\n",
      "La cantidad de valores duplicados son: 0\n",
      "     duration  tot_dur\n",
      "0        0.00    26834\n",
      "837      8.37      102\n",
      "402      4.02      102\n",
      "391      3.91      101\n",
      "430      4.30      100\n"
     ]
    },
    {
     "data": {
      "image/png": "[encoded data removed]",
      "text/plain": [
       "<Figure size 640x480 with 1 Axes>"
      ]
     },
     "metadata": {},
     "output_type": "display_data"
    }
   ],
   "source": [
    "# Imprime una muestra de datos para las llamadas\n",
    "print(calls.head())\n",
    "print(\"La cantidad de valores duplicados son:\",calls.duplicated().sum())\n",
    "# se obseva que no tiene valores duplicados\n",
    "\n",
    "#minutos de llamadas\n",
    "calls_minutes = calls.groupby(by='duration')['id'].count().reset_index(name='tot_dur').sort_values(by='tot_dur',ascending=False)\n",
    "print(calls_minutes.head())\n",
    "\n",
    "calls['duration'].plot(kind='hist')\n",
    "plt.title('Frecuencia de minutos de llamadas')\n",
    "plt.show()"
   ]
  },
  {
   "cell_type": "markdown",
   "metadata": {
    "id": "DOAxYJSx0q09"
   },
   "source": [
    "<div class=\"alert alert-block alert-info\">\n",
    "No tenemos valores ausente ni duplicados.\n",
    " </br>   Se observa que  la columna \"call_date\" está como Object y eso se debería de cambiar como tipo fecha.\n",
    "</b> <a class=\"tocSkip\"></a>\n",
    "</div>"
   ]
  },
  {
   "cell_type": "markdown",
   "metadata": {
    "id": "S7hzxmbX0q0-"
   },
   "source": [
    "### Corregir los datos"
   ]
  },
  {
   "cell_type": "code",
   "execution_count": 172,
   "metadata": {
    "id": "S2r8xA4f0q0-"
   },
   "outputs": [],
   "source": [
    "# Cambiamos el tipo de dato de \"call_date\"\n",
    "calls['call_date'] = pd.to_datetime(calls['call_date'], format='%Y-%m-%d')"
   ]
  },
  {
   "cell_type": "markdown",
   "metadata": {
    "id": "KrMgTrlG0q0_"
   },
   "source": [
    "### Enriquecer los datos"
   ]
  },
  {
   "cell_type": "markdown",
   "metadata": {
    "id": "a9MbmEvE0q0_"
   },
   "source": [
    "<div class=\"alert alert-block alert-info\">\n",
    "Como vamos a estar trabajando en periodos, va a ser importante que tengamos la columna de Year_Month para las agrupaciones y uniones pertinentes pertinentes. En la documentacion de dice que solo tiene datos del año 2018, pero aun así, me gustar tener el dato en año-mes para que este análisis pueda ser usado en diferentes periodos.\n",
    "</b> <a class=\"tocSkip\"></a>\n",
    "</div>"
   ]
  },
  {
   "cell_type": "code",
   "execution_count": 173,
   "metadata": {
    "id": "iZ1avpA_0q0_"
   },
   "outputs": [],
   "source": [
    "# Creamos las columnas de Year y Month\n",
    "calls['year'] = calls['call_date'].dt.year\n",
    "calls['month'] = calls['call_date'].dt.month\n",
    "calls['year_month'] = calls['call_date'].dt.to_period('M')"
   ]
  },
  {
   "cell_type": "markdown",
   "metadata": {
    "id": "a9MbmEvE0q0_"
   },
   "source": [
    "<div class=\"alert alert-block alert-info\">\n",
    "Del histograma de minutos de llamada se observa que existe un gran volumen de registros en llamadas con duracion de 0 minutos. Podría ser un error en la inserción de la data, pero dado que nos interesan los registro con llamdas mayor a ceros, vamos a considerar excluir estos registros en los sucesivos pasos.\n",
    "</b> <a class=\"tocSkip\"></a>\n",
    "</div>"
   ]
  },
  {
   "cell_type": "markdown",
   "metadata": {},
   "source": [
    "<div class=\"alert alert-block alert-warning\">\n",
    "<b>Comentario Revisor</b> <a class=\"tocSkip\"></a>\n",
    "\n",
    "Qué podríamos decir hasta el momento de las llamadas que tienen una duración de 0?\n",
    "</div>"
   ]
  },
  {
   "cell_type": "markdown",
   "metadata": {},
   "source": [
    "\n",
    "<div class=\"alert alert-block alert-success\">\n",
    "<b>Comentario del revisor</b> <a class=\"tocSkip\"></a>\n",
    "\n",
    "Gran trabajo con el ajuste!"
   ]
  },
  {
   "cell_type": "markdown",
   "metadata": {
    "id": "mOUZSi180q0_"
   },
   "source": [
    "## Mensajes"
   ]
  },
  {
   "cell_type": "code",
   "execution_count": 174,
   "metadata": {
    "id": "R-bYJpdV0q1A"
   },
   "outputs": [
    {
     "name": "stdout",
     "output_type": "stream",
     "text": [
      "<class 'pandas.core.frame.DataFrame'>\n",
      "RangeIndex: 76051 entries, 0 to 76050\n",
      "Data columns (total 3 columns):\n",
      " #   Column        Non-Null Count  Dtype \n",
      "---  ------        --------------  ----- \n",
      " 0   id            76051 non-null  object\n",
      " 1   user_id       76051 non-null  int64 \n",
      " 2   message_date  76051 non-null  object\n",
      "dtypes: int64(1), object(2)\n",
      "memory usage: 1.7+ MB\n"
     ]
    }
   ],
   "source": [
    "# Imprime la información general/resumida sobre el DataFrame de los mensajes\n",
    "messages.info()\n",
    "# Se oberva que no tiene nullos\n"
   ]
  },
  {
   "cell_type": "code",
   "execution_count": 175,
   "metadata": {
    "id": "mCEl2iGE0q1A"
   },
   "outputs": [
    {
     "name": "stdout",
     "output_type": "stream",
     "text": [
      "         id  user_id message_date\n",
      "0  1000_125     1000   2018-12-27\n",
      "1  1000_160     1000   2018-12-31\n",
      "2  1000_223     1000   2018-12-31\n",
      "3  1000_251     1000   2018-12-27\n",
      "4  1000_255     1000   2018-12-26\n",
      "La cantidad de valores duplicados son: 0\n"
     ]
    }
   ],
   "source": [
    "# Imprime una muestra de datos para los mensajes\n",
    "print(messages.head())\n",
    "print(\"La cantidad de valores duplicados son:\",messages.duplicated().sum())\n",
    "# se obseva que no tiene valores duplicados\n",
    "\n"
   ]
  },
  {
   "cell_type": "markdown",
   "metadata": {
    "id": "04xDj7KH0q1A"
   },
   "source": [
    "<div class=\"alert alert-block alert-info\">\n",
    "No tenemos valores ausente ni duplicados.\n",
    " </br>   \n",
    "Se observa que  la columna \"message_date\" está como Object y eso se debería de cambiar como tipo fecha.\n",
    "</b> <a class=\"tocSkip\"></a>\n",
    "</div>"
   ]
  },
  {
   "cell_type": "markdown",
   "metadata": {
    "id": "Sprfak900q1B"
   },
   "source": [
    "### Corregir los datos"
   ]
  },
  {
   "cell_type": "code",
   "execution_count": 176,
   "metadata": {
    "id": "vsllvkoa0q1B"
   },
   "outputs": [],
   "source": [
    "# Cambias el tipo de dato de la columna \"message_date\" a tipo fecha\n",
    "messages['message_date'] = pd.to_datetime(messages['message_date'], format='%Y-%m-%d')"
   ]
  },
  {
   "cell_type": "markdown",
   "metadata": {
    "id": "HvLid7iD0q1B"
   },
   "source": [
    "### Enriquecer los datos"
   ]
  },
  {
   "cell_type": "markdown",
   "metadata": {
    "id": "a9MbmEvE0q0_"
   },
   "source": [
    "<div class=\"alert alert-block alert-info\">\n",
    "Como vamos a estar trabajando en periodos, va a ser importante que tengamos la columna de Year_Month para las agrupaciones y uniones pertinentes pertinentes. Aunque se menciona que solo hay datos del 2018, me interesa hacer la unión de Año-mes para que este análisis pueda ser útil en cualquier tipo de periodo.\n",
    "</b> <a class=\"tocSkip\"></a>\n",
    "</div>"
   ]
  },
  {
   "cell_type": "code",
   "execution_count": 177,
   "metadata": {
    "id": "zYEXZac10q1C"
   },
   "outputs": [],
   "source": [
    "messages['year'] = messages['message_date'].dt.year\n",
    "messages['month'] = messages['message_date'].dt.month\n",
    "messages['year_month'] = messages['message_date'].dt.to_period('M')"
   ]
  },
  {
   "cell_type": "markdown",
   "metadata": {
    "id": "bStkaxn40q1C"
   },
   "source": [
    "## Internet"
   ]
  },
  {
   "cell_type": "code",
   "execution_count": 178,
   "metadata": {
    "id": "e-Uz5qyn0q1C"
   },
   "outputs": [
    {
     "name": "stdout",
     "output_type": "stream",
     "text": [
      "<class 'pandas.core.frame.DataFrame'>\n",
      "RangeIndex: 104825 entries, 0 to 104824\n",
      "Data columns (total 4 columns):\n",
      " #   Column        Non-Null Count   Dtype  \n",
      "---  ------        --------------   -----  \n",
      " 0   id            104825 non-null  object \n",
      " 1   user_id       104825 non-null  int64  \n",
      " 2   session_date  104825 non-null  object \n",
      " 3   mb_used       104825 non-null  float64\n",
      "dtypes: float64(1), int64(1), object(2)\n",
      "memory usage: 3.2+ MB\n"
     ]
    }
   ],
   "source": [
    "# Imprime la información general/resumida sobre el DataFrame de internet\n",
    "internet.info()\n",
    "# Se observa que hay valores ausentes"
   ]
  },
  {
   "cell_type": "code",
   "execution_count": 179,
   "metadata": {
    "id": "9r3x_XLw0q1C"
   },
   "outputs": [
    {
     "name": "stdout",
     "output_type": "stream",
     "text": [
      "         id  user_id session_date  mb_used\n",
      "0   1000_13     1000   2018-12-29    89.86\n",
      "1  1000_204     1000   2018-12-31     0.00\n",
      "2  1000_379     1000   2018-12-28   660.40\n",
      "3  1000_413     1000   2018-12-26   270.99\n",
      "4  1000_442     1000   2018-12-27   880.22\n",
      "La cantidad de valores duplicados son: 0\n"
     ]
    }
   ],
   "source": [
    "# Imprime una muestra de datos para el tráfico de internet\n",
    "print(internet.head())\n",
    "print(\"La cantidad de valores duplicados son:\",internet.duplicated().sum())\n",
    "# se obseva que no tiene valores duplicados"
   ]
  },
  {
   "cell_type": "markdown",
   "metadata": {
    "id": "EzOG5ik30q1D"
   },
   "source": [
    "<div class=\"alert alert-block alert-info\">\n",
    "Se observa que  la columna \"session_date\" está como Object y eso se debería de cambiar como tipo fecha.\n",
    "</b> <a class=\"tocSkip\"></a>\n",
    "</div>"
   ]
  },
  {
   "cell_type": "markdown",
   "metadata": {
    "id": "yA0tkPFg0q1D"
   },
   "source": [
    "### Corregir los datos"
   ]
  },
  {
   "cell_type": "code",
   "execution_count": 180,
   "metadata": {
    "id": "zVeanzdd0q1E"
   },
   "outputs": [],
   "source": [
    "#Cambiamos el tipo de la columna \"session_date\" a tipo fecha\n",
    "internet['session_date'] = pd.to_datetime(internet['session_date'], format='%Y-%m-%d')"
   ]
  },
  {
   "cell_type": "markdown",
   "metadata": {
    "id": "e8_mLF4a0q1E"
   },
   "source": [
    "### Enriquecer los datos"
   ]
  },
  {
   "cell_type": "markdown",
   "metadata": {
    "id": "xhNdn2tE0q1E"
   },
   "source": [
    "<div class=\"alert alert-block alert-info\">\n",
    "Como vamos a estar trabajando en periodos, va a ser importante que tengamos nuestras columnas de Year y Month separadas para las agrupaciones pertinentes.\n",
    "</b> <a class=\"tocSkip\"></a>\n",
    "</div>"
   ]
  },
  {
   "cell_type": "code",
   "execution_count": 181,
   "metadata": {
    "id": "ESiYPIEK0q1E"
   },
   "outputs": [],
   "source": [
    "internet['year'] = internet['session_date'].dt.year\n",
    "internet['month'] = internet['session_date'].dt.month\n",
    "internet['year_month'] = internet['session_date'].dt.to_period('M')"
   ]
  },
  {
   "cell_type": "markdown",
   "metadata": {},
   "source": [
    "<div class=\"alert alert-block alert-warning\">\n",
    "<b>Comentario revisor</b> <a class=\"tocSkip\"></a>\n",
    "\n",
    "\n",
    "Te recomiendo solamente comentar que cuando agrupemos los datos vamos a tener que redondear hacia arriba lo valores de la transformación de mbegabyter a gigabyte, para este ejercicio debemos hacer el redondeo superior dado que se cobra el costo extra en cuanto se pasa de los límites.Por lo que es necesario hacer la transformación de mb a gb y después hacer el redondeo.  \n",
    "</div>"
   ]
  },
  {
   "cell_type": "markdown",
   "metadata": {
    "id": "3UA2cqIW0q1E"
   },
   "source": [
    "## Estudiar las condiciones de las tarifas"
   ]
  },
  {
   "cell_type": "code",
   "execution_count": 182,
   "metadata": {
    "id": "i409op8p0q1F"
   },
   "outputs": [
    {
     "name": "stdout",
     "output_type": "stream",
     "text": [
      "   messages_included  mb_per_month_included  minutes_included  \\\n",
      "0                 50                  15360               500   \n",
      "1               1000                  30720              3000   \n",
      "\n",
      "   usd_monthly_pay  usd_per_gb  usd_per_message  usd_per_minute plan_name  \n",
      "0               20          10             0.03            0.03      surf  \n",
      "1               70           7             0.01            0.01  ultimate  \n"
     ]
    }
   ],
   "source": [
    "# Imprime las condiciones de la tarifa y asegúrate de que te quedan claras\n",
    "print(plans)"
   ]
  },
  {
   "cell_type": "markdown",
   "metadata": {
    "id": "hMR1tP5d0q1F"
   },
   "source": [
    "## Agregar datos por usuario\n",
    "\n",
    "\n",
    "<div class=\"alert alert-block alert-info\">\n",
    "Comenzaremos con las agrupaciones que serán relevantes a lo largo del proyecto.\n",
    "    </br> En la tablas de \"calls\",\"internet\" y \"messages\", por cada usuario, y cada fecha, tenemos el registro de cada clase. Como nos interesan los periodos de \"meses\" y por cada usuario, hacemos el conteo total de llamadas, duración de las llamadas, total de mensajes usados, y total de megas de internet usado por cada usario y año-mes.\n",
    "</b> <a class=\"tocSkip\"></a>\n",
    "</div>"
   ]
  },
  {
   "cell_type": "code",
   "execution_count": 183,
   "metadata": {
    "id": "A332cedB0q1G"
   },
   "outputs": [
    {
     "name": "stdout",
     "output_type": "stream",
     "text": [
      "      user_id year_month  call_count\n",
      "0        1000    2018-12          16\n",
      "1        1001    2018-08          27\n",
      "2        1001    2018-09          49\n",
      "3        1001    2018-10          65\n",
      "4        1001    2018-11          64\n",
      "...       ...        ...         ...\n",
      "2253     1498    2018-12          39\n",
      "2254     1499    2018-09          41\n",
      "2255     1499    2018-10          53\n",
      "2256     1499    2018-11          45\n",
      "2257     1499    2018-12          65\n",
      "\n",
      "[2258 rows x 3 columns]\n"
     ]
    }
   ],
   "source": [
    "# Calcula el número de llamadas hechas por cada usuario al mes. Guarda el resultado.\n",
    "calls_by_user = calls.groupby(by=['user_id','year_month'])['user_id'].count().reset_index(name='call_count')\n",
    "print(calls_by_user)"
   ]
  },
  {
   "cell_type": "markdown",
   "metadata": {},
   "source": [
    "\n",
    "<div class=\"alert alert-block alert-warning\">\n",
    "\n",
    "<b>Comentario revisor</b> <a class=\"tocSkip\"></a>\n",
    "\n",
    "Si bien es correcta la forma de agrupar para sacar la duración de las llamadas por cada ususario, para proximas ocasiones puedes hacer uso de la siguiente forma:\n",
    "    \n",
    "    pivot_calls = calls.pivot_table(index=['user_id', 'month'],\n",
    "                                values=['duration'],\n",
    "                                aggfunc=['sum','count']).reset_index()\n",
    "\n",
    "</div>"
   ]
  },
  {
   "cell_type": "code",
   "execution_count": 184,
   "metadata": {
    "id": "aw2cmuql0q1G"
   },
   "outputs": [
    {
     "name": "stdout",
     "output_type": "stream",
     "text": [
      "      user_id year_month  call_durations\n",
      "0        1000    2018-12             117\n",
      "1        1001    2018-08             172\n",
      "2        1001    2018-09             298\n",
      "3        1001    2018-10             375\n",
      "4        1001    2018-11             405\n",
      "...       ...        ...             ...\n",
      "2253     1498    2018-12             325\n",
      "2254     1499    2018-09             331\n",
      "2255     1499    2018-10             364\n",
      "2256     1499    2018-11             289\n",
      "2257     1499    2018-12             469\n",
      "\n",
      "[2258 rows x 3 columns]\n"
     ]
    }
   ],
   "source": [
    "# Calcula la cantidad de minutos usados por cada usuario al mes. Guarda el resultado.\n",
    "calls_minutes_by_user = calls.groupby(by=['user_id','year_month'])['duration'].sum().reset_index(name='call_durations')\n",
    "###### Vamos a redondear hacía arriba los minutos de llamadas para calcular correctamente el uso y en su caso, los cargos por exceso de consumo.\n",
    "calls_minutes_by_user['call_durations'] = calls_minutes_by_user['call_durations'].apply(math.ceil)\n",
    "\n",
    "print(calls_minutes_by_user)"
   ]
  },
  {
   "cell_type": "markdown",
   "metadata": {
    "id": "xhNdn2tE0q1E"
   },
   "source": [
    "<div class=\"alert alert-block alert-info\">\n",
    "Ya tenemos los minutos de llamadas en el mes redondeadas hacia arriba.\n",
    "</b> <a class=\"tocSkip\"></a>\n",
    "</div>"
   ]
  },
  {
   "cell_type": "code",
   "execution_count": 185,
   "metadata": {
    "id": "CcQvNHn60q1G"
   },
   "outputs": [
    {
     "name": "stdout",
     "output_type": "stream",
     "text": [
      "      user_id year_month  messages_count\n",
      "0        1000    2018-12              11\n",
      "1        1001    2018-08              30\n",
      "2        1001    2018-09              44\n",
      "3        1001    2018-10              53\n",
      "4        1001    2018-11              36\n",
      "...       ...        ...             ...\n",
      "1801     1496    2018-09              21\n",
      "1802     1496    2018-10              18\n",
      "1803     1496    2018-11              13\n",
      "1804     1496    2018-12              11\n",
      "1805     1497    2018-12              50\n",
      "\n",
      "[1806 rows x 3 columns]\n"
     ]
    }
   ],
   "source": [
    "# Calcula el número de mensajes enviados por cada usuario al mes. Guarda el resultado.\n",
    "messages_by_user = messages.groupby(by=['user_id','year_month'])['user_id'].count().reset_index(name='messages_count')\n",
    "print(messages_by_user)\n"
   ]
  },
  {
   "cell_type": "code",
   "execution_count": 186,
   "metadata": {
    "id": "H1AqN2eG0q1H"
   },
   "outputs": [
    {
     "name": "stdout",
     "output_type": "stream",
     "text": [
      "      user_id year_month  internet_consumed\n",
      "0        1000    2018-12                  2\n",
      "1        1001    2018-08                  7\n",
      "2        1001    2018-09                 14\n",
      "3        1001    2018-10                 22\n",
      "4        1001    2018-11                 19\n",
      "...       ...        ...                ...\n",
      "2272     1498    2018-12                 23\n",
      "2273     1499    2018-09                 13\n",
      "2274     1499    2018-10                 20\n",
      "2275     1499    2018-11                 17\n",
      "2276     1499    2018-12                 22\n",
      "\n",
      "[2277 rows x 3 columns]\n"
     ]
    }
   ],
   "source": [
    "# Calcula el volumen del tráfico de Internet usado por cada usuario al mes. Guarda el resultado.\n",
    "internet_by_user = internet.groupby(by=['user_id','year_month'])['mb_used'].sum().reset_index(name='internet_consumed')\n",
    "\n",
    "#print(internet_by_user)\n",
    "##Convertimos los megabyte a Gigabyt y redondeamos hacia arriba\n",
    "internet_by_user['internet_consumed'] = (internet_by_user['internet_consumed']/1024).apply(math.ceil)\n",
    "print(internet_by_user)"
   ]
  },
  {
   "cell_type": "markdown",
   "metadata": {
    "id": "xhNdn2tE0q1E"
   },
   "source": [
    "<div class=\"alert alert-block alert-info\">\n",
    "Ya tenemos los megabyte en el mes redondeadas hacia arriba y convertidos a Gigabytes.\n",
    "</b> <a class=\"tocSkip\"></a>\n",
    "</div>"
   ]
  },
  {
   "cell_type": "markdown",
   "metadata": {
    "id": "VDfYXnj80q1H"
   },
   "source": [
    "<div class=\"alert alert-block alert-info\">\n",
    "Ahora, todas las tablas de agrupación tienen una relación unica en común, que es [user_id','year_month'], con eso podemos crear nuestra tabla con la información acumulada completa, es decir, ya tenemos, para cada usuario, para cada Año-Mes; el conteo total de llamadas, la duración de las llamadas, total de mensajes usados, y total de megas de internet usado .\n",
    "</b> <a class=\"tocSkip\"></a>\n",
    "</div>"
   ]
  },
  {
   "cell_type": "code",
   "execution_count": 187,
   "metadata": {
    "id": "FW99ykyf0q1H"
   },
   "outputs": [
    {
     "name": "stdout",
     "output_type": "stream",
     "text": [
      "   user_id year_month  call_count  call_durations  messages_count  \\\n",
      "0     1000    2018-12          16             117              11   \n",
      "1     1001    2018-08          27             172              30   \n",
      "2     1001    2018-09          49             298              44   \n",
      "3     1001    2018-10          65             375              53   \n",
      "4     1001    2018-11          64             405              36   \n",
      "\n",
      "   internet_consumed  \n",
      "0                  2  \n",
      "1                  7  \n",
      "2                 14  \n",
      "3                 22  \n",
      "4                 19  \n"
     ]
    }
   ],
   "source": [
    "# Fusiona los datos de llamadas, minutos, mensajes e Internet con base en user_id y month\n",
    "full_information = calls_by_user.merge(calls_minutes_by_user, on=['user_id','year_month'], how='inner')\n",
    "full_information = full_information.merge(messages_by_user, on=['user_id','year_month'], how = 'inner')\n",
    "full_information = full_information.merge(internet_by_user, on=['user_id','year_month'], how = 'inner')\n",
    "print(full_information.head())\n"
   ]
  },
  {
   "cell_type": "markdown",
   "metadata": {
    "id": "VDfYXnj80q1H"
   },
   "source": [
    "<div class=\"alert alert-block alert-info\">\n",
    "Ademas, tenemos el plan usado, así que con eso podemo agregar las tarifas de cada plan para así tener las información total que usaremos.\n",
    "</b> <a class=\"tocSkip\"></a>\n",
    "</div>"
   ]
  },
  {
   "cell_type": "code",
   "execution_count": 188,
   "metadata": {
    "id": "0dNOXHag0q1H"
   },
   "outputs": [
    {
     "name": "stdout",
     "output_type": "stream",
     "text": [
      "   user_id year_month  call_count  call_durations  messages_count  \\\n",
      "0     1000    2018-12          16             117              11   \n",
      "1     1006    2018-11           2              10              15   \n",
      "2     1006    2018-12           9              55             139   \n",
      "3     1008    2018-10          71             451              21   \n",
      "4     1008    2018-11          63             423              37   \n",
      "\n",
      "   internet_consumed first_name last_name  age  \\\n",
      "0                  2   Anamaria     Bauer   45   \n",
      "1                  3     Jesusa  Bradford   73   \n",
      "2                 32     Jesusa  Bradford   73   \n",
      "3                 17      Emely   Hoffman   53   \n",
      "4                 24      Emely   Hoffman   53   \n",
      "\n",
      "                                     city  ...      plan  churn_date  \\\n",
      "0   Atlanta-Sandy Springs-Roswell, GA MSA  ...  ultimate         NaN   \n",
      "1  San Francisco-Oakland-Berkeley, CA MSA  ...  ultimate  2018-12-18   \n",
      "2  San Francisco-Oakland-Berkeley, CA MSA  ...  ultimate  2018-12-18   \n",
      "3       Orlando-Kissimmee-Sanford, FL MSA  ...  ultimate         NaN   \n",
      "4       Orlando-Kissimmee-Sanford, FL MSA  ...  ultimate         NaN   \n",
      "\n",
      "  messages_included  mb_per_month_included  minutes_included  usd_monthly_pay  \\\n",
      "0              1000                  30720              3000               70   \n",
      "1              1000                  30720              3000               70   \n",
      "2              1000                  30720              3000               70   \n",
      "3              1000                  30720              3000               70   \n",
      "4              1000                  30720              3000               70   \n",
      "\n",
      "   usd_per_gb  usd_per_message  usd_per_minute  plan_name  \n",
      "0           7             0.01            0.01   ultimate  \n",
      "1           7             0.01            0.01   ultimate  \n",
      "2           7             0.01            0.01   ultimate  \n",
      "3           7             0.01            0.01   ultimate  \n",
      "4           7             0.01            0.01   ultimate  \n",
      "\n",
      "[5 rows x 21 columns]\n"
     ]
    }
   ],
   "source": [
    "# Añade la información de la tarifa\n",
    "full_information = full_information.merge(users, on=['user_id'], how = 'inner')\n",
    "full_information = full_information.merge(plans, left_on='plan', right_on='plan_name', how = 'inner')\n",
    "print(full_information.head())"
   ]
  },
  {
   "cell_type": "markdown",
   "metadata": {},
   "source": [
    "<div class=\"alert alert-block alert-success\">\n",
    "<b>Comentario del revisor</b> <a class=\"tocSkip\"></a>\n",
    "\n",
    "Muy buen trabajo!! el merge es correcto para unir todas las bases trabajadas.\n",
    "    \n",
    "</div>"
   ]
  },
  {
   "cell_type": "markdown",
   "metadata": {
    "id": "1IwGo4wg0q1I"
   },
   "source": [
    "<div class=\"alert alert-block alert-info\">\n",
    "Ahora, tenemos la certeza que cada RENGLON de esta tabla tenemos:\n",
    "   </br> Al usuario.\n",
    "   </br> El año-mes en cuestión.\n",
    "   </br> El plan que tiente contratado y por ende los límites de mensajes, tiempo en llamadas y los megas límites que tiene.\n",
    "   </br> El total de mensajes realizados en ese periodo.\n",
    "   </br> El total de minutos en llamadas de esperiodo.\n",
    "   </br> El total de megas consumidos en ese periodo.\n",
    "</br> Así que con las diferencias podemos saber si en dicho perido se excedió en laguno de lo contratado. Como por lo excedido hay una tarifa especial, vamos a hacer la diferencia de lo usado contra lo contratado. Si eso es mayor a cero, entonces nos quedamos con esa diferencia, pero eso eso es menor o igual a cero,nos quedamos con el cero. No nos interesa que no se hayan excedido para el tema de costos adiconales.\n",
    "</b> <a class=\"tocSkip\"></a>\n",
    "</div>"
   ]
  },
  {
   "cell_type": "code",
   "execution_count": 189,
   "metadata": {
    "id": "5FGCf_c60q1I"
   },
   "outputs": [
    {
     "name": "stdout",
     "output_type": "stream",
     "text": [
      "      user_id year_month  call_count  call_durations  messages_count  \\\n",
      "1239     1267    2018-12         205            1432             125   \n",
      "1516     1365    2018-12         180            1284              45   \n",
      "\n",
      "      internet_consumed first_name last_name  age  \\\n",
      "1239                 37        Gia    Parker   53   \n",
      "1516                  9    Milford      Rush   19   \n",
      "\n",
      "                               city  ... churn_date messages_included  \\\n",
      "1239           St. Louis, MO-IL MSA  ...        NaN                50   \n",
      "1516  Grand Rapids-Kentwood, MI MSA  ...        NaN                50   \n",
      "\n",
      "     mb_per_month_included  minutes_included  usd_monthly_pay  usd_per_gb  \\\n",
      "1239                 15360               500               20          10   \n",
      "1516                 15360               500               20          10   \n",
      "\n",
      "      usd_per_message  usd_per_minute  plan_name  minutes_exceded  \n",
      "1239             0.03            0.03       surf              932  \n",
      "1516             0.03            0.03       surf              784  \n",
      "\n",
      "[2 rows x 22 columns]\n",
      "      user_id year_month  call_count  call_durations  messages_count  \\\n",
      "651      1052    2018-12         177            1137             266   \n",
      "1546     1381    2018-10          61             479             224   \n",
      "\n",
      "      internet_consumed first_name last_name  age  \\\n",
      "651                  27     Edmond   Hopkins   47   \n",
      "1546                 25     German    Burris   44   \n",
      "\n",
      "                                          city  ... messages_included  \\\n",
      "651   Houston-The Woodlands-Sugar Land, TX MSA  ...                50   \n",
      "1546      Austin-Round Rock-Georgetown, TX MSA  ...                50   \n",
      "\n",
      "     mb_per_month_included minutes_included  usd_monthly_pay  usd_per_gb  \\\n",
      "651                  15360              500               20          10   \n",
      "1546                 15360              500               20          10   \n",
      "\n",
      "      usd_per_message  usd_per_minute  plan_name  minutes_exceded  \\\n",
      "651              0.03            0.03       surf              637   \n",
      "1546             0.03            0.03       surf                0   \n",
      "\n",
      "      messsages_exceded  \n",
      "651                 216  \n",
      "1546                174  \n",
      "\n",
      "[2 rows x 23 columns]\n",
      "      user_id year_month  call_count  call_durations  messages_count  \\\n",
      "1544     1379    2018-12         144            1046             126   \n",
      "1138     1240    2018-08         161            1039              15   \n",
      "\n",
      "      internet_consumed first_name last_name  age  \\\n",
      "1544                 70    Jarrett   Spencer   34   \n",
      "1138                 49      Drema     Lopez   61   \n",
      "\n",
      "                               city  ... mb_per_month_included  \\\n",
      "1544  Grand Rapids-Kentwood, MI MSA  ...                 15360   \n",
      "1138            Baton Rouge, LA MSA  ...                 15360   \n",
      "\n",
      "     minutes_included usd_monthly_pay  usd_per_gb  usd_per_message  \\\n",
      "1544              500              20          10             0.03   \n",
      "1138              500              20          10             0.03   \n",
      "\n",
      "      usd_per_minute  plan_name  minutes_exceded  messsages_exceded  \\\n",
      "1544            0.03       surf              546                 76   \n",
      "1138            0.03       surf              539                  0   \n",
      "\n",
      "      mb_exceded  \n",
      "1544        55.0  \n",
      "1138        34.0  \n",
      "\n",
      "[2 rows x 24 columns]\n",
      "      user_id year_month  call_count  call_durations  messages_count  \\\n",
      "1544     1379    2018-12         144            1046             126   \n",
      "1138     1240    2018-08         161            1039              15   \n",
      "\n",
      "      internet_consumed first_name last_name  age  \\\n",
      "1544                 70    Jarrett   Spencer   34   \n",
      "1138                 49      Drema     Lopez   61   \n",
      "\n",
      "                               city  ... minutes_included usd_monthly_pay  \\\n",
      "1544  Grand Rapids-Kentwood, MI MSA  ...              500              20   \n",
      "1138            Baton Rouge, LA MSA  ...              500              20   \n",
      "\n",
      "     usd_per_gb  usd_per_message  usd_per_minute  plan_name  minutes_exceded  \\\n",
      "1544         10             0.03            0.03       surf              546   \n",
      "1138         10             0.03            0.03       surf              539   \n",
      "\n",
      "      messsages_exceded  mb_exceded  cost_by_exceded  \n",
      "1544                 76        55.0           568.66  \n",
      "1138                  0        34.0           356.17  \n",
      "\n",
      "[2 rows x 25 columns]\n",
      "      user_id year_month  call_count  call_durations  messages_count  \\\n",
      "1544     1379    2018-12         144            1046             126   \n",
      "1138     1240    2018-08         161            1039              15   \n",
      "\n",
      "      internet_consumed first_name last_name  age  \\\n",
      "1544                 70    Jarrett   Spencer   34   \n",
      "1138                 49      Drema     Lopez   61   \n",
      "\n",
      "                               city  ... usd_monthly_pay usd_per_gb  \\\n",
      "1544  Grand Rapids-Kentwood, MI MSA  ...              20         10   \n",
      "1138            Baton Rouge, LA MSA  ...              20         10   \n",
      "\n",
      "     usd_per_message  usd_per_minute  plan_name  minutes_exceded  \\\n",
      "1544            0.03            0.03       surf              546   \n",
      "1138            0.03            0.03       surf              539   \n",
      "\n",
      "      messsages_exceded  mb_exceded  cost_by_exceded  monthly_payment  \n",
      "1544                 76        55.0           568.66           588.66  \n",
      "1138                  0        34.0           356.17           376.17  \n",
      "\n",
      "[2 rows x 26 columns]\n"
     ]
    }
   ],
   "source": [
    "# Calcula el ingreso mensual para cada usuario\n",
    "#Calculamos los minutos excedidos en las llamas que se hayan podide\n",
    "full_information['minutes_exceded'] = np.where(full_information['call_durations']-full_information['minutes_included']>0, full_information['call_durations']-full_information['minutes_included'],0)\n",
    "#Imprimimos un ejemplo donde sí se haya excedido los minitos.\n",
    "print(full_information.sort_values(by='minutes_exceded', ascending=False).head(2))\n",
    "\n",
    "#Calculamos los mensajes excedidos \n",
    "full_information['messsages_exceded'] = np.where(full_information['messages_count']-full_information['messages_included']>0, full_information['messages_count']-full_information['messages_included'],0)\n",
    "#Imprimimos un ejemplo donde sí se haya excedido los minitos.\n",
    "print(full_information.sort_values(by='messsages_exceded', ascending=False).head(2))\n",
    "\n",
    "#Calculamos losc megas excedidos \n",
    "full_information['mb_exceded'] = np.where(full_information['internet_consumed']-(full_information['mb_per_month_included']/1024)>0,full_information['internet_consumed']-(full_information['mb_per_month_included']/1024),0)\n",
    "#Imprimimos un ejemplo donde sí se haya excedido los minitos.\n",
    "print(full_information.sort_values(by='mb_exceded', ascending=False).head(2))\n",
    "\n",
    "\n",
    "#Ahora hacemos las multiplicaciones para ver el precio extra donde se excede de los límites del paquete.\n",
    "full_information['cost_by_exceded']=full_information['mb_exceded']*full_information['usd_per_gb'] + full_information['messsages_exceded']*full_information['usd_per_message']+full_information['minutes_exceded']*full_information['usd_per_minute']\n",
    "print(full_information.sort_values(by='cost_by_exceded', ascending=False).head(2))\n",
    "\n",
    "# Con esto ya tenemos el pago mensual de cada ususaio\n",
    "full_information['monthly_payment'] = full_information['cost_by_exceded']+full_information['usd_monthly_pay']\n",
    "print(full_information.sort_values(by='monthly_payment', ascending=False).head(2))"
   ]
  },
  {
   "cell_type": "markdown",
   "metadata": {
    "id": "AxU3Y0N70q1J"
   },
   "source": [
    "<div class=\"alert alert-block alert-info\">\n",
    "En las creaciones de los DataFrame de \"call\" y \"internet\", ya realicé los redondeados de la duración de las llamadas y redondear la transformación de megabytes a gigabytes. Para calcular el costo excedido en el interte, tuvo que cambiar los 'mb_per_month_included' as Giga para hacer correcta la comparación.\n",
    "</b> <a class=\"tocSkip\"></a>\n",
    "</div>\n"
   ]
  },
  {
   "cell_type": "markdown",
   "metadata": {},
   "source": [
    "<div class=\"alert alert-block alert-danger\">\n",
    "<b>Comentario revisor</b> <a class=\"tocSkip\"></a>\n",
    "\n",
    "\n",
    "Recuerda que para este punto, es necesario que ya tengamos los valores redondeados de la duración de las llamadas y redondear la transformación de megabytes a gigabytes. Esto cobra importancia dado que estamos calculando por cuanto se paso cada usuario, entonces el no redondear puede alterar este valor.\n",
    "</div>"
   ]
  },
  {
   "cell_type": "markdown",
   "metadata": {},
   "source": [
    "\n",
    "<div class=\"alert alert-block alert-success\">\n",
    "<b>Comentario del revisor</b> <a class=\"tocSkip\"></a>\n",
    "\n",
    "Gran trabajo con el ajuste!"
   ]
  },
  {
   "cell_type": "markdown",
   "metadata": {
    "id": "-jtyHzJb0q1I"
   },
   "source": [
    "## Estudia el comportamiento de usuario"
   ]
  },
  {
   "cell_type": "markdown",
   "metadata": {
    "id": "AxU3Y0N70q1J"
   },
   "source": [
    "<div class=\"alert alert-block alert-info\">\n",
    "Para cada tipo de servicio, llamadas, mensajes e internet, nos intersa conocer el uso que le dan los clientes separado por el plan (Surf y UIltimate). Por lo tanto haremos comparaciones con todos y cada uno de estos servicos y determinar las diferencias o relaciones que pudieran tener.\n",
    "</b> <a class=\"tocSkip\"></a>\n",
    "</div>\n"
   ]
  },
  {
   "cell_type": "markdown",
   "metadata": {
    "id": "vtW4CJEe0q1J"
   },
   "source": [
    "### Llamadas"
   ]
  },
  {
   "cell_type": "code",
   "execution_count": 190,
   "metadata": {
    "id": "Jf5v5--k0q1J"
   },
   "outputs": [
    {
     "data": {
      "image/png": "[encoded data removed]",
      "text/plain": [
       "<Figure size 640x480 with 1 Axes>"
      ]
     },
     "metadata": {},
     "output_type": "display_data"
    }
   ],
   "source": [
    "# Compara la duración promedio de llamadas por cada plan y por cada mes. Traza un gráfico de barras para visualizarla.\n",
    "calls_by_plan_month_surf = full_information[full_information['plan_name']=='surf'].groupby(by='year_month')['call_durations'].mean() \n",
    "calls_by_plan_month_ultimate = full_information[full_information['plan_name']=='ultimate'].groupby(by='year_month')['call_durations'].mean() \n",
    "mean_calls_by_plan_month = pd.concat([calls_by_plan_month_surf,calls_by_plan_month_ultimate], axis='columns')\n",
    "mean_calls_by_plan_month.columns=['tot_call_duration_surf','tot_call_duration_ulti']\n",
    "mean_calls_by_plan_month = mean_calls_by_plan_month.reset_index()\n",
    "#print(mean_calls_by_plan_month.head())\n",
    "\n",
    "mean_calls_by_plan_month.plot(title='Total de llamadas por plan y mes'\n",
    "                              , x='year_month'\n",
    "                              ,y=['tot_call_duration_surf','tot_call_duration_ulti']\n",
    "                              ,xlabel='Año y mes',ylabel='Duración promedio de llamada', kind='bar')\n",
    "plt.legend(['Total llamas Surf','Total llamas Ultimate'])\n",
    "plt.show()"
   ]
  },
  {
   "cell_type": "code",
   "execution_count": 191,
   "metadata": {
    "id": "QoLqW1S_0q1J"
   },
   "outputs": [
    {
     "data": {
      "image/png": "[encoded data removed]",
      "text/plain": [
       "<Figure size 640x480 with 1 Axes>"
      ]
     },
     "metadata": {},
     "output_type": "display_data"
    },
    {
     "data": {
      "image/png": "[encoded data removed]",
      "text/plain": [
       "<Figure size 640x480 with 1 Axes>"
      ]
     },
     "metadata": {},
     "output_type": "display_data"
    }
   ],
   "source": [
    "# Compara el número de minutos mensuales que necesitan los usuarios de cada plan. Traza un histograma.\n",
    "minutes_by_user_month = full_information.groupby(by=['user_id','year_month','plan_name'])['call_durations'].sum().reset_index()\n",
    "minutes_by_user_month.columns=['user_id','year_month','plan_name','total_minutes_month']\n",
    "\n",
    "\n",
    "minutes_surf = minutes_by_user_month[minutes_by_user_month['plan_name']=='surf']['total_minutes_month']\n",
    "minutes_ultimate = minutes_by_user_month[minutes_by_user_month['plan_name']=='ultimate']['total_minutes_month']\n",
    "minutes_ultimate.plot(title='Total de llamadas por usuario por periodos (incluyendo cero uso)',kind='hist',bins=20,alpha=0.9)\n",
    "minutes_surf.plot(kind='hist',bins=30,alpha=0.3)\n",
    "plt.legend(['Total minutos Surf','Total minutos Ultimate'])\n",
    "plt.show()\n",
    "\n",
    "# Descartamos todos aquellos datos node no se usó el servicio total_minutes_month = 0.0\n",
    "minutes_by_user_month = minutes_by_user_month[minutes_by_user_month['total_minutes_month']>0]\n",
    "\n",
    "#print(minutes_by_user_month.sort_values(by='total_minutes_month', ascending=True).head(2))\n",
    "\n",
    "\n",
    "minutes_surf = minutes_by_user_month[minutes_by_user_month['plan_name']=='surf']['total_minutes_month']\n",
    "minutes_ultimate = minutes_by_user_month[minutes_by_user_month['plan_name']=='ultimate']['total_minutes_month']\n",
    "\n",
    "minutes_ultimate.plot(title='Total de llamadas por usuario por periodos (sin cero uso)',kind='hist',bins=20,alpha=0.9)\n",
    "minutes_surf.plot(kind='hist',bins=30,alpha=0.3)\n",
    "plt.legend(['Total minutos Surf','Total minutos Ultimate'])\n",
    "plt.show()\n",
    "\n"
   ]
  },
  {
   "cell_type": "markdown",
   "metadata": {
    "id": "bLS9T8OH0q1K"
   },
   "source": [
    "<div class=\"alert alert-block alert-info\">\n",
    "Cuando se obtuvo el DataFrame \"minutes_by_user_month\" se observó que una gran cantidad de usuarios no usaron minutos en los diferentes periodos. Es por eso que realicé un segundo gráfico donde solo incluyo los registro con uso mayor a cero, con eso, podemos observar una mejor comparación del uso de llamadas entre los dos planes.\n",
    "</b> <a class=\"tocSkip\"></a>\n",
    "</div>\n",
    "\n",
    "<div class=\"alert alert-block alert-info\">\n",
    "Ahora, para compara su media y varianza vamos a trabajar con los datos mayor a cero. \n",
    "</b> <a class=\"tocSkip\"></a>\n",
    "</div>"
   ]
  },
  {
   "cell_type": "code",
   "execution_count": 192,
   "metadata": {
    "id": "oSndbAnt0q1K"
   },
   "outputs": [
    {
     "name": "stdout",
     "output_type": "stream",
     "text": [
      "La varianza de la duración mensual por usuario del plan ultimate es: 55310.218507920166\n",
      "La media de la duración mensual por usuario del plan ultimate es: 418.8062283737024\n",
      "La varianza de la duración mensual por usuario del plan surf es: 49450.575997558175\n",
      "La media de la duración mensual por usuario del plan surf es: 421.2720338983051\n"
     ]
    }
   ],
   "source": [
    "# Calcula la media y la varianza de la duración mensual de llamadas.\n",
    "var_ultimate = np.var(minutes_ultimate)\n",
    "var_surf = np.var(minutes_surf)\n",
    "\n",
    "mean_ultimate = minutes_ultimate.mean()\n",
    "mean_surf = minutes_surf.mean()\n",
    "\n",
    "print(\"La varianza de la duración mensual por usuario del plan ultimate es:\", var_ultimate)\n",
    "print(\"La media de la duración mensual por usuario del plan ultimate es:\", mean_ultimate)\n",
    "print(\"La varianza de la duración mensual por usuario del plan surf es:\", var_surf)\n",
    "print(\"La media de la duración mensual por usuario del plan surf es:\", mean_surf)"
   ]
  },
  {
   "cell_type": "code",
   "execution_count": 193,
   "metadata": {
    "id": "nZzoRUKc0q1K"
   },
   "outputs": [
    {
     "data": {
      "image/png": "[encoded data removed]",
      "text/plain": [
       "<Figure size 640x480 with 1 Axes>"
      ]
     },
     "metadata": {},
     "output_type": "display_data"
    }
   ],
   "source": [
    "# Traza un diagrama de caja para visualizar la distribución de la duración mensual de llamadas\n",
    "#print(minutes_ultimate.reset_index().head())\n",
    "minutes_ultimate_bx = minutes_ultimate.reset_index()\n",
    "minutes_ultimate_bx['plan'] = 'ultimate'\n",
    "minutes_surf_bx = minutes_surf.reset_index()\n",
    "minutes_surf_bx['plan'] = 'surf'\n",
    "minutes_all = pd.concat([minutes_ultimate_bx, minutes_surf_bx],ignore_index=True )\n",
    "minutes_all['total_minutes_month']= minutes_all['total_minutes_month'].astype(float)\n",
    "minutes_all.boxplot(column='total_minutes_month', by='plan')\n",
    "plt.title('Comparación de uso de llamadas entre los planes Surf y Ultimate')\n",
    "plt.suptitle('')\n",
    "plt.show()\n"
   ]
  },
  {
   "cell_type": "markdown",
   "metadata": {
    "id": "r627zBO50q1K"
   },
   "source": [
    "<div class=\"alert alert-block alert-info\">\n",
    "Tomando en cuenta solo los usuarios y sus periodos donde sí usaron el servicio, se observa que la media mensual es casí la misma, y el mayor conjunto de uso es poco arriba de los 500 minutos, que es el límites para el plan Surf. Así que las personas que tienen el plan Ultimate, casi nunca exceden ni los 600 minutos, teniendo en cuenta que ellos tiene contratado 3000 minutos.\n",
    "\n",
    "En este sentipo podríamos decir que los usuario del plan Surf están aprovechan casí al máximo los minutos contratados, en gran contraste contra lo del plan Ultimate, ellos no está aprovechando en nada sus minutos.\n",
    "</b> <a class=\"tocSkip\"></a>\n",
    "</div>"
   ]
  },
  {
   "cell_type": "markdown",
   "metadata": {
    "id": "8idKy8Wh0q1L"
   },
   "source": [
    "### Mensajes"
   ]
  },
  {
   "cell_type": "code",
   "execution_count": 194,
   "metadata": {
    "id": "NXLxiTit0q1L"
   },
   "outputs": [
    {
     "data": {
      "image/png": "[encoded data removed]",
      "text/plain": [
       "<Figure size 640x480 with 1 Axes>"
      ]
     },
     "metadata": {},
     "output_type": "display_data"
    },
    {
     "data": {
      "image/png": "[encoded data removed]",
      "text/plain": [
       "<Figure size 640x480 with 1 Axes>"
      ]
     },
     "metadata": {},
     "output_type": "display_data"
    },
    {
     "name": "stdout",
     "output_type": "stream",
     "text": [
      "La varianza de la cantidad de mensajes por usuario del plan ultimate es: 1082.5209446338606\n",
      "La media de la cantidad de mensajes por usuario del plan ultimate es: 46.4559585492228\n",
      "La varianza de la cantidad de mensajes por usuario del plan surf es: 1043.3329474288998\n",
      "La media de la cantidad de mensajes por usuario del plan surf es: 39.489830508474576\n"
     ]
    },
    {
     "data": {
      "image/png": "[encoded data removed]",
      "text/plain": [
       "<Figure size 640x480 with 1 Axes>"
      ]
     },
     "metadata": {},
     "output_type": "display_data"
    }
   ],
   "source": [
    "# Comprara el número de mensajes que tienden a enviar cada mes los usuarios de cada plan\n",
    "messages_by_plan_month_ultimate = full_information[full_information['plan_name']=='ultimate'].groupby(by='year_month')['messages_count'].mean() \n",
    "messages_by_plan_month_surf = full_information[full_information['plan_name']=='surf'].groupby(by='year_month')['messages_count'].mean() \n",
    "\n",
    "#Unimos los DataFrames con las agrupaciones apra graficarlos y comparar visiblemente\n",
    "mean_messages_by_plan_month = pd.concat([messages_by_plan_month_surf,messages_by_plan_month_ultimate], axis='columns')\n",
    "mean_messages_by_plan_month.columns=['tot_messages_surf','tot_messages_ulti']\n",
    "mean_messages_by_plan_month = mean_messages_by_plan_month.reset_index()\n",
    "#print(mean_messages_by_plan_month.head())\n",
    "\n",
    "mean_messages_by_plan_month.plot(title='Total de mensajes por plan y mes'\n",
    "                              , x='year_month'\n",
    "                              ,y=['tot_messages_surf','tot_messages_ulti']\n",
    "                              ,xlabel='Año y mes',ylabel='Cantidad promedio de mensajes', kind='bar')\n",
    "\n",
    "plt.show()\n",
    "\n",
    "#Creamos el dataFrame general que contiene la suma total de mensajes agrupados por usuari y año-mes.\n",
    "messages_by_user_month = full_information.groupby(by=['user_id','year_month','plan_name'])['messages_count'].sum().reset_index()\n",
    "messages_by_user_month.columns=['user_id','year_month','plan_name','total_messages_month']\n",
    "\n",
    "# Descartamos todos aquellos datos donde no se usó el servicio total_minutes_month = 0.0\n",
    "messages_by_user_month = messages_by_user_month[messages_by_user_month['total_messages_month']>0]\n",
    "\n",
    "#print(messages_by_user_month.sort_values(by='total_messages_month', ascending=True).head(2))\n",
    "\n",
    "\n",
    "messages_surf = messages_by_user_month[messages_by_user_month['plan_name']=='surf']['total_messages_month']\n",
    "messages_ultimate = messages_by_user_month[messages_by_user_month['plan_name']=='ultimate']['total_messages_month']\n",
    "\n",
    "messages_ultimate.plot(kind='hist',bins=20,alpha=0.9)\n",
    "messages_surf.plot(kind='hist',bins=30,alpha=0.3)\n",
    "plt.legend(['surf','ultimate'])\n",
    "plt.show()\n",
    "\n",
    "#Calculamos las varianza y media\n",
    "var_ultimate_messages = np.var(messages_ultimate)\n",
    "var_surf_messages = np.var(messages_surf)\n",
    "\n",
    "mean_ultimate_messages = messages_ultimate.mean()\n",
    "mean_surf_messages = messages_surf.mean()\n",
    "\n",
    "print(\"La varianza de la cantidad de mensajes por usuario del plan ultimate es:\", var_ultimate_messages)\n",
    "print(\"La media de la cantidad de mensajes por usuario del plan ultimate es:\", mean_ultimate_messages)\n",
    "print(\"La varianza de la cantidad de mensajes por usuario del plan surf es:\", var_surf_messages)\n",
    "print(\"La media de la cantidad de mensajes por usuario del plan surf es:\", mean_surf_messages)\n",
    "\n",
    "messages_ultimate_box = messages_ultimate.reset_index()\n",
    "messages_ultimate_box['plan'] = 'ultimate'\n",
    "messages_surf_box = messages_surf.reset_index()\n",
    "messages_surf_box['plan'] = 'surf'\n",
    "messages_all = pd.concat([messages_ultimate_box,messages_surf_box], ignore_index=True)\n",
    "\n",
    "messages_all.boxplot(column='total_messages_month',by='plan')\n",
    "plt.title('Comparación de uso de mensajes entre los planes Surf y Ultimate')\n",
    "plt.suptitle('')\n",
    "plt.show()"
   ]
  },
  {
   "cell_type": "markdown",
   "metadata": {
    "id": "390SSL480q1M"
   },
   "source": [
    "<div class=\"alert alert-block alert-info\">\n",
    "Tomando en cuenta solo los usuarios y sus periodos donde sí usaron el servicio de mensajes, se observa que la media mensual es casí la misma, y el mayor conjunto de uso es entre 39 y 46 mensajes. Así que las personas que tienen el plan Ultimate, están muy lejos del total de mensajes que tienen disponibles, que son 1000 SMS.\n",
    "\n",
    "Por su parte, los usuarios del plan Surf están aprovechan al máximo los mensajes contratados, y hasta podríamos decir que un gran volumen lo está excediento, ya que la medía de 39, está muy cerca de los 50 SMS que tiene de límite.\n",
    "</b> <a class=\"tocSkip\"></a>\n",
    "</div>"
   ]
  },
  {
   "cell_type": "markdown",
   "metadata": {
    "id": "42YSypXz0q1M"
   },
   "source": [
    "### Internet"
   ]
  },
  {
   "cell_type": "code",
   "execution_count": 195,
   "metadata": {
    "id": "GRI_R7xF0q1L"
   },
   "outputs": [
    {
     "data": {
      "image/png": "[encoded data removed]",
      "text/plain": [
       "<Figure size 640x480 with 1 Axes>"
      ]
     },
     "metadata": {},
     "output_type": "display_data"
    },
    {
     "data": {
      "image/png": "[encoded data removed]",
      "text/plain": [
       "<Figure size 640x480 with 1 Axes>"
      ]
     },
     "metadata": {},
     "output_type": "display_data"
    },
    {
     "name": "stdout",
     "output_type": "stream",
     "text": [
      "La varianza de la cantidad de internet consumido por usuario del plan ultimate es: 56.077037116581806\n",
      "La media de la cantidad de internet consumido por usuario del plan ultimate es: 17.34369602763385\n",
      "La varianza de la cantidad de internet consumido por usuario del plan surf es: 56.964188451594374\n",
      "La media de la cantidad de internet consumido por usuario del plan surf es: 16.752542372881354\n"
     ]
    },
    {
     "data": {
      "image/png": "[encoded data removed]",
      "text/plain": [
       "<Figure size 640x480 with 1 Axes>"
      ]
     },
     "metadata": {},
     "output_type": "display_data"
    }
   ],
   "source": [
    "# Compara la cantidad de tráfico de Internet consumido por usuarios por plan\n",
    "internet_by_plan_month_ultimate = full_information[full_information['plan_name']=='ultimate'].groupby(by='year_month')['internet_consumed'].mean() \n",
    "internet_by_plan_month_surf = full_information[full_information['plan_name']=='surf'].groupby(by='year_month')['internet_consumed'].mean() \n",
    "mean_internet_by_plan_month = pd.concat([internet_by_plan_month_surf,internet_by_plan_month_ultimate], axis='columns')\n",
    "mean_internet_by_plan_month.columns=['tot_internet_surf','tot_internet_ulti']\n",
    "mean_internet_by_plan_month = mean_internet_by_plan_month.reset_index()\n",
    "#print(mean_internet_by_plan_month.head())\n",
    "\n",
    "mean_internet_by_plan_month.plot(title='Total de internet consuimido por plan y mes'\n",
    "                              , x='year_month'\n",
    "                              ,y=['tot_internet_surf','tot_internet_ulti']\n",
    "                              ,xlabel='Año y mes',ylabel='Promedio de uso de internet', kind='bar')\n",
    "\n",
    "plt.show()\n",
    "\n",
    "internet_by_user_month = full_information.groupby(by=['user_id','year_month','plan_name'])['internet_consumed'].sum().reset_index()\n",
    "internet_by_user_month.columns=['user_id','year_month','plan_name','total_internet_month']\n",
    "\n",
    "# Descartamos todos aquellos datos node no se usó el servicio total_internet_month = 0.0\n",
    "internet_by_user_month = internet_by_user_month[internet_by_user_month['total_internet_month']>0]\n",
    "\n",
    "#Convertimos los megas usado a Giga para una mejor comparación con los planes contatados\n",
    "internet_by_user_month['total_internet_month'] =internet_by_user_month['total_internet_month'] \n",
    "\n",
    "#print(internet_by_user_month.sort_values(by='total_internet_month', ascending=True).head(2))\n",
    "\n",
    "\n",
    "internet_surf = internet_by_user_month[internet_by_user_month['plan_name']=='surf']['total_internet_month']\n",
    "internet_ultimate = internet_by_user_month[internet_by_user_month['plan_name']=='ultimate']['total_internet_month']\n",
    "\n",
    "internet_ultimate.plot(kind='hist',bins=20,alpha=0.9)\n",
    "internet_surf.plot(kind='hist',bins=30,alpha=0.3)\n",
    "plt.legend(['surf','ultimate'])\n",
    "plt.show()\n",
    "\n",
    "\n",
    "var_ultimate_internet = np.var(internet_ultimate)\n",
    "var_surf_internet = np.var(internet_surf)\n",
    "\n",
    "mean_ultimate_internet = internet_ultimate.mean()\n",
    "mean_surf_internet = internet_surf.mean()\n",
    "\n",
    "print(\"La varianza de la cantidad de internet consumido por usuario del plan ultimate es:\", var_ultimate_internet)\n",
    "print(\"La media de la cantidad de internet consumido por usuario del plan ultimate es:\", mean_ultimate_internet)\n",
    "print(\"La varianza de la cantidad de internet consumido por usuario del plan surf es:\", var_surf_internet)\n",
    "print(\"La media de la cantidad de internet consumido por usuario del plan surf es:\", mean_surf_internet)\n",
    "\n",
    "internet_ultimate_box = internet_ultimate.reset_index()\n",
    "internet_ultimate_box['plan'] = 'ultimate'\n",
    "internet_surf_box = internet_surf.reset_index()\n",
    "internet_surf_box['plan'] = 'surf'\n",
    "internet_all = pd.concat([internet_ultimate_box,internet_surf_box], ignore_index=True)\n",
    "\n",
    "\n",
    "internet_all.boxplot(column='total_internet_month', by='plan')\n",
    "plt.title('Comparación de uso de internet entre los planes Surf y Ultimate')\n",
    "plt.suptitle('')\n",
    "plt.show()\n"
   ]
  },
  {
   "cell_type": "markdown",
   "metadata": {
    "id": "UN9zwuMP0q1N"
   },
   "source": [
    "<div class=\"alert alert-block alert-info\">\n",
    "Tomando en cuenta solo los usuarios y sus periodos donde sí usaron el servicio de internet, se observa que el uso que le dan los clientes tanto plane Surf como plan Ultimate es casi idéntico. Ambos tiene una media de ~16G y una varianza de ~56G. Esto nos dice que un gran número de clientes Surf está excediendo su consumo contratado y ahí es un gran nicho de oportunidad para invitarlo a subir de plan.\n",
    "\n",
    "Por su parte, los usuario de plan Ultimate están un poco lejos de su uso contratado, acá incluso podríamos ofrecer un poco más de Gb para ser más atractivo el plan sabiendo que es mínma la cantida de gente que si quiera lo rebasa. Un hotsale u ofertón =).\n",
    "</b> <a class=\"tocSkip\"></a>\n",
    "</div>"
   ]
  },
  {
   "cell_type": "markdown",
   "metadata": {
    "id": "tCijq3260q1N"
   },
   "source": [
    "## Ingreso"
   ]
  },
  {
   "cell_type": "markdown",
   "metadata": {
    "id": "9nq5IAcy0q1O"
   },
   "source": [
    "[Del mismo modo que has estudiado el comportamiento de los usuarios, describe estadísticamente los ingresos de los planes.]"
   ]
  },
  {
   "cell_type": "code",
   "execution_count": 196,
   "metadata": {
    "id": "tz-dq_V00q1O"
   },
   "outputs": [
    {
     "data": {
      "image/png": "[encoded data removed]",
      "text/plain": [
       "<Figure size 640x480 with 1 Axes>"
      ]
     },
     "metadata": {},
     "output_type": "display_data"
    },
    {
     "data": {
      "image/png": "[encoded data removed]",
      "text/plain": [
       "<Figure size 640x480 with 1 Axes>"
      ]
     },
     "metadata": {},
     "output_type": "display_data"
    },
    {
     "data": {
      "image/png": "[encoded data removed]",
      "text/plain": [
       "<Figure size 640x480 with 1 Axes>"
      ]
     },
     "metadata": {},
     "output_type": "display_data"
    },
    {
     "name": "stdout",
     "output_type": "stream",
     "text": [
      "La varianza de la cantidad pago mensual por usuario del plan ultimate es: 121.5478178385102\n",
      "La media de la cantidad de pago mensual por usuario del plan ultimate es: 72.24870466321244\n",
      "La varianza de la cantidad de pago mensual por usuario del plan surf es: 2853.52643229898\n",
      "La media de la cantidad de pago mensual por usuario del plan surf es: 60.01460169491525\n"
     ]
    },
    {
     "data": {
      "image/png": "[encoded data removed]",
      "text/plain": [
       "<Figure size 640x480 with 1 Axes>"
      ]
     },
     "metadata": {},
     "output_type": "display_data"
    },
    {
     "data": {
      "image/png": "[encoded data removed]",
      "text/plain": [
       "<Figure size 640x480 with 1 Axes>"
      ]
     },
     "metadata": {},
     "output_type": "display_data"
    }
   ],
   "source": [
    "monthly_payment_by_plan_month_ultimate = full_information[full_information['plan_name']=='ultimate'].groupby(by='year_month')['monthly_payment'].mean() \n",
    "monthly_payment_by_plan_month_surf = full_information[full_information['plan_name']=='surf'].groupby(by='year_month')['monthly_payment'].mean() \n",
    "mean_monthly_payment_by_plan_month = pd.concat([monthly_payment_by_plan_month_surf,monthly_payment_by_plan_month_ultimate], axis='columns')\n",
    "mean_monthly_payment_by_plan_month.columns=['tot_monthly_payment_surf','tot_monthly_payment_ulti']\n",
    "mean_monthly_payment_by_plan_month = mean_monthly_payment_by_plan_month.reset_index()\n",
    "#print(mean_monthly_payment_by_plan_month.head())\n",
    "\n",
    "mean_monthly_payment_by_plan_month.plot(title='Total pagado por plan y mes'\n",
    "                              , x='year_month'\n",
    "                              ,y=['tot_monthly_payment_surf','tot_monthly_payment_ulti']\n",
    "                              ,xlabel='Año y mes',ylabel='Promedio pago mensual', kind='bar')\n",
    "\n",
    "plt.show()\n",
    "\n",
    "monthly_payment_by_user_month = full_information.groupby(by=['user_id','year_month','plan_name'])['monthly_payment'].sum().reset_index()\n",
    "monthly_payment_by_user_month.columns=['user_id','year_month','plan_name','total_monthly_payment']\n",
    "\n",
    "# Descartamos todos aquellos datos donde hay registro 0.0\n",
    "monthly_payment_by_user_month = monthly_payment_by_user_month[monthly_payment_by_user_month['total_monthly_payment']>0]\n",
    "\n",
    "#print(monthly_payment_by_user_month.sort_values(by='total_monthly_payment', ascending=True).head(20))\n",
    "\n",
    "monthly_payment_surf = monthly_payment_by_user_month[monthly_payment_by_user_month['plan_name']=='surf']['total_monthly_payment']\n",
    "monthly_payment_ultimate = monthly_payment_by_user_month[monthly_payment_by_user_month['plan_name']=='ultimate']['total_monthly_payment']\n",
    "\n",
    "monthly_payment_surf.plot(kind='hist',bins=30,alpha=0.3)\n",
    "monthly_payment_ultimate.plot(kind='hist',bins=20,alpha=0.9)\n",
    "\n",
    "plt.legend(['surf','ultimate'])\n",
    "plt.show()\n",
    "\n",
    "\n",
    "# En cada plan, vamos a considerar la frencuenda solo de quierens pagaron más del plan que tenían contratado\n",
    "monthly_payment_surf_exced = monthly_payment_surf.reset_index()\n",
    "monthly_payment_surf_exced = monthly_payment_surf_exced[monthly_payment_surf_exced['total_monthly_payment']>20]\n",
    "\n",
    "monthly_payment_ultimate_exced = monthly_payment_ultimate.reset_index()\n",
    "monthly_payment_ultimate_exced = monthly_payment_ultimate_exced[monthly_payment_ultimate_exced['total_monthly_payment']>70]\n",
    "monthly_payment_surf_exced['total_monthly_payment'].plot(kind='hist',bins=30,alpha=0.3)\n",
    "monthly_payment_ultimate_exced['total_monthly_payment'].plot(kind='hist',bins=20,alpha=0.9)\n",
    "plt.title('Comparación de los pagos excedidos')\n",
    "plt.legend(['surf','ultimate'])\n",
    "plt.show()\n",
    "\n",
    "\n",
    "var_ultimate_monthly_payment = np.var(monthly_payment_ultimate)\n",
    "var_surf_monthly_payment = np.var(monthly_payment_surf)\n",
    "\n",
    "mean_ultimate_monthly_payment = monthly_payment_ultimate.mean()\n",
    "mean_surf_monthly_payment = monthly_payment_surf.mean()\n",
    "\n",
    "print(\"La varianza de la cantidad pago mensual por usuario del plan ultimate es:\", var_ultimate_monthly_payment)\n",
    "print(\"La media de la cantidad de pago mensual por usuario del plan ultimate es:\", mean_ultimate_monthly_payment)\n",
    "print(\"La varianza de la cantidad de pago mensual por usuario del plan surf es:\", var_surf_monthly_payment)\n",
    "print(\"La media de la cantidad de pago mensual por usuario del plan surf es:\", mean_surf_monthly_payment)\n",
    "\n",
    "monthly_payment_ultimate.reset_index().boxplot(column='total_monthly_payment')\n",
    "plt.show()\n",
    "monthly_payment_surf.reset_index().boxplot(column='total_monthly_payment')\n",
    "plt.show()"
   ]
  },
  {
   "cell_type": "markdown",
   "metadata": {
    "id": "KAFidcXZ0q1P"
   },
   "source": [
    "<div class=\"alert alert-block alert-info\">\n",
    "Con respecto al ingreso promedio se observa los clientes del plan Ultimate se acercan mucho al consumo según su plan contratado, es decir 70.0. Eso nos dice que son muy poco los casos donde clientes con este plan se excedan alguno de los servicios y paguen esos consumos extra.\n",
    "\n",
    "En contraste, el promedio de ingreso de los clientes del plan Surf, está muy lejos del conto del plan contratado, que es 20. El promedio de ese conjunto es de 56, con una varianza de 2683!, esto refleja que estos usuarios están sobre usando el servicio de internet, esto lo se por el análisis anterior.\n",
    "\n",
    "</div>"
   ]
  },
  {
   "cell_type": "markdown",
   "metadata": {},
   "source": [
    "<div class=\"alert alert-block alert-success\">\n",
    "<b>Comentario revisor</b> <a class=\"tocSkip\"></a>\n",
    "\n",
    " Muy buena prática la de usar distintos tipos de gráficas identificar algunos hallazgos y llegar a conclusiones\n",
    "</div>"
   ]
  },
  {
   "cell_type": "markdown",
   "metadata": {
    "id": "ajJ7VKeI0q1Q"
   },
   "source": [
    "## Prueba las hipótesis estadísticas"
   ]
  },
  {
   "cell_type": "markdown",
   "metadata": {
    "id": "IQwa_hsh0q1Q"
   },
   "source": [
    "\n",
    "\n",
    "<div class=\"alert alert-block alert-info\">\n",
    "Vamos a probar la hipótesis: El ingreso promedio de los usuarios de las tarifas Ultimate y Surf difiere.\n",
    "    \n",
    "\n",
    "La Hipótesis nula será: H_0 = El ingreso promedio de los clientes del plan Ultimate es igual al ingreso promedio de los clientes Surf.\n",
    "\n",
    "La Hipótesis alternativa será: H_1 = El ingreso promedio de los clientes del plan Ultimate es diferente al ingreso promedio de los clientes Surf.\n",
    "\n",
    "Como tenemos dos conjunto de datos y nos intersa saber si su media difiere, vamos a utilizar le método \"sobre la igualdad de las medias de dos poblaciones\", ahi nos dice que se utiliza una prueba t de dos muestras independientes (ttest_ind) porque se comparan dos grupos no relacionados, y queremos probar si sus medias son significativamente diferentes.\n",
    "\n",
    "Estableceremos nuestro nivel crítico de significación estadística en alpha = 0.05, que es un estándar habitual para permitir un 5% de probabilidad de error.\n",
    "\n",
    "</div>"
   ]
  },
  {
   "cell_type": "code",
   "execution_count": 197,
   "metadata": {
    "id": "nFoPNlPq0q1R"
   },
   "outputs": [
    {
     "name": "stdout",
     "output_type": "stream",
     "text": [
      "valor p: 8.319558977074422e-14\n",
      "Rechazamos la hipótesis nula\n"
     ]
    }
   ],
   "source": [
    "# Prueba las hipótesis\n",
    "\n",
    "alpha = 0.05# nivel crítico de significación estadística\n",
    "\n",
    "results = st.ttest_ind(monthly_payment_surf,monthly_payment_ultimate, equal_var= False)\n",
    "#  prueba la hipótesis de que las medias de las dos poblaciones independientes son diferentes\n",
    "\n",
    "print('valor p:', results.pvalue)\n",
    "\n",
    "if  results.pvalue < alpha:\n",
    "    print(\"Rechazamos la hipótesis nula\")\n",
    "else:\n",
    "    print(\"No podemos rechazar la hipótesis nula\")\n"
   ]
  },
  {
   "cell_type": "markdown",
   "metadata": {
    "id": "tCcAruM60q1R"
   },
   "source": [
    "[Prueba la hipótesis de que el ingreso promedio de los usuarios del área NY-NJ es diferente al de los usuarios de otras regiones.]"
   ]
  },
  {
   "cell_type": "markdown",
   "metadata": {
    "id": "LsBgitqj0q1R"
   },
   "source": [
    "\n",
    "<div class=\"alert alert-block alert-info\">\n",
    "Vamos a probar la hipótesis:El ingreso promedio de los usuarios en el área de estados Nueva York-Nueva Jersey es diferente al de los usuarios de otras regiones.\n",
    "    \n",
    "</br>\n",
    "La Hipótesis nula será: H_0 = El ingreso promedio de los usuarios en el área de estados Nueva York-Nueva Jersey es igual al de los usuarios de otras regiones.\n",
    "\n",
    "La Hipótesis alternativa será: H_1 = El ingreso promedio de los usuarios en el área de estados Nueva York-Nueva Jersey es diferente al de los usuarios de otras regiones.\n",
    "\n",
    "Como tenemos dos conjunto de datos y nos intersa saber si su media difiere, vamos a utilizar le método \"sobre la igualdad de las medias de dos poblaciones\", ahi nos dice que se utiliza una prueba t de dos muestras independientes (ttest_ind) porque se comparan dos grupos no relacionados, y queremos probar si sus medias son significativamente diferentes.\n",
    "\n",
    "Estableceremos nuestro nivel crítico de significación estadística en alpha = 0.05, que es un estándar habitual para permitir un 5% de probabilidad de error.\n",
    "\n",
    "</div>"
   ]
  },
  {
   "cell_type": "code",
   "execution_count": 198,
   "metadata": {
    "id": "Cqcj7wrZ0q1S"
   },
   "outputs": [
    {
     "name": "stdout",
     "output_type": "stream",
     "text": [
      "La varianza de la cantidad pago mensual por usuario de New York-Newark-Jersey City es: 1506.440609784047\n",
      "La media de la cantidad de pago mensual por usuario de New York-Newark-Jersey City es: 57.68949820788531\n",
      "La varianza de la cantidad de pago mensual por usuario de las demás ciudades es: 2068.9161397207818\n",
      "La media de la cantidad de pago mensual por usuario de las demás ciudades es: 65.23909459459459\n",
      "valor p: 0.0040279914524273056\n",
      "Rechazamos la hipótesis nula\n"
     ]
    }
   ],
   "source": [
    "#primero vamos a obtener el conjunto de datos de los usuarios de New York-Newark-Jersey City y el del resto de las ciudades\n",
    "# ny = full_information.groupby(by=['city'])['monthly_payment'].sum().reset_index()\n",
    "# ny = ny[ny['city'] != 'New York-Newark-Jersey City, NY-NJ-PA MSA']\n",
    "# print(ny.head(100))\n",
    "monthly_payment_by_city = full_information.groupby(by=['user_id','year_month','city'])['monthly_payment'].sum().reset_index()\n",
    "monthly_payment_by_city.columns=['user_id','year_month','city','total_monthly_payment']\n",
    "monthly_payment_NY_NJ = monthly_payment_by_city[monthly_payment_by_city['city']=='New York-Newark-Jersey City, NY-NJ-PA MSA']['total_monthly_payment']\n",
    "monthly_payment_ALL_others = monthly_payment_by_city[monthly_payment_by_city['city']!='New York-Newark-Jersey City, NY-NJ-PA MSA']['total_monthly_payment']\n",
    "\n",
    "\n",
    "var_monthly_payment_NY_NJ = np.var(monthly_payment_NY_NJ)\n",
    "var_monthly_payment_ALL_others= np.var(monthly_payment_ALL_others)\n",
    "\n",
    "mean_monthly_payment_NY_NJ = monthly_payment_NY_NJ.mean()\n",
    "mean_monthly_payment_ALL_others = monthly_payment_ALL_others.mean()\n",
    "\n",
    "print(\"La varianza de la cantidad pago mensual por usuario de New York-Newark-Jersey City es:\", var_monthly_payment_NY_NJ)\n",
    "print(\"La media de la cantidad de pago mensual por usuario de New York-Newark-Jersey City es:\", mean_monthly_payment_NY_NJ)\n",
    "print(\"La varianza de la cantidad de pago mensual por usuario de las demás ciudades es:\", var_monthly_payment_ALL_others)\n",
    "print(\"La media de la cantidad de pago mensual por usuario de las demás ciudades es:\", mean_monthly_payment_ALL_others)\n",
    "\n",
    "\n",
    "# Prueba las hipótesis\n",
    "\n",
    "alpha = 0.05# nivel crítico de significación estadística\n",
    "\n",
    "results = st.ttest_ind(monthly_payment_NY_NJ,monthly_payment_ALL_others, equal_var= False)\n",
    "#  prueba la hipótesis de que las medias de las dos poblaciones independientes son diferentes\n",
    "\n",
    "print('valor p:', results.pvalue)\n",
    "\n",
    "if  results.pvalue < alpha:\n",
    "    print(\"Rechazamos la hipótesis nula\")\n",
    "else:\n",
    "    print(\"No podemos rechazar la hipótesis nula\")"
   ]
  },
  {
   "cell_type": "markdown",
   "metadata": {},
   "source": [
    "<div class=\"alert alert-block alert-success\">\n",
    "<b>Comentario revisor</b> <a class=\"tocSkip\"></a>\n",
    "\n",
    "Excelente trabajo con el desarrollo de las pruebas de hipótesis. Solamente en futuras ocasiones te recomiendo considerar realizar la prueba de levene para mostrar el supuesto de varianzas iguales. "
   ]
  },
  {
   "cell_type": "markdown",
   "metadata": {
    "id": "bbTR8UQO0q1T"
   },
   "source": [
    "## Conclusión general\n",
    "\n",
    "\n",
    "<div class=\"alert alert-block alert-info\">\n",
    "\n",
    "1. La información que nos proporcionó Megaline, en gran media, está íntegra y completa, es una buena señal que la empresa mantiene muy ordenada su información.\n",
    "2. Sobre la información, fue necesario convertir sus campos fecha a formatos fecha para mayor agilidad en la creación de DataFrames y sobre todo para realizar las uniones pertinente.\n",
    "3. El revisar cada servicio, se observó que hay muchos usuario que no usan el servico de llamadas principalmente, pero tapoco los otros, así que para analizar y comparar lso conusmos (efectivos), utilicé solo aquemos meses donde sí hubo un consumo mayor a 0.0\n",
    "4. En los diferentes planes que ofrece Megaline, se observa que de los tres sevicios, el Internet es el más usado y más aun, es el que tiene más excedentes en el plan Surf.\n",
    "5. Los clientes que usan el plan Ultimate, tiene muy sub-usado los tres servicios, tanto que la media de pago menusal es de 72, cuando el costo de ese plan es de 70.\n",
    "6. Los clientes que usan el plan Surf, están excediendo mucho sus servicios contratados, tiene una media de pago mensual de 56, cuando el costo de ese plan es de 20.\n",
    "7. Se puede concluir que Ultimate es un excelente plan, cubre en gran medida y en los diferente servicios las necesidades de sus cliente.\n",
    "8. El plan surf ya está quedando muy corto para las necesidades de los clientes, principalmente en el uso de internet.\n",
    "9. El ingreso promedio de los usuarios de las tarifas Ultimate y Surf es difieren.\n",
    "10. El ingreso promedio de los usuarios en el área de estados Nueva York-Nueva Jersey es diferente al de los usuarios de otras regiones.\n",
    "</div>\n"
   ]
  }
 ],
 "metadata": {
  "ExecuteTimeLog": [
   {
    "duration": 828,
    "start_time": "2021-11-16T09:21:11.304Z"
   },
   {
    "duration": 893,
    "start_time": "2021-11-16T09:21:17.728Z"
   },
   {
    "duration": 1150,
    "start_time": "2021-11-16T09:21:29.568Z"
   },
   {
    "duration": 3,
    "start_time": "2021-11-16T09:24:14.495Z"
   },
   {
    "duration": 120,
    "start_time": "2021-11-16T09:24:46.630Z"
   },
   {
    "duration": 3,
    "start_time": "2021-11-16T09:28:27.882Z"
   },
   {
    "duration": 4,
    "start_time": "2021-11-16T09:29:54.281Z"
   },
   {
    "duration": 3,
    "start_time": "2021-11-16T09:30:45.936Z"
   },
   {
    "duration": 4,
    "start_time": "2021-11-16T09:31:06.300Z"
   },
   {
    "duration": 113,
    "start_time": "2021-11-16T09:31:37.208Z"
   },
   {
    "duration": 143,
    "start_time": "2021-11-16T09:31:48.656Z"
   },
   {
    "duration": 98,
    "start_time": "2021-11-16T09:31:55.678Z"
   },
   {
    "duration": 3,
    "start_time": "2021-11-16T09:32:08.535Z"
   },
   {
    "duration": 111,
    "start_time": "2021-11-16T09:32:10.120Z"
   },
   {
    "duration": 3,
    "start_time": "2021-11-16T09:32:15.732Z"
   },
   {
    "duration": 4,
    "start_time": "2021-11-16T09:32:29.423Z"
   },
   {
    "duration": 3,
    "start_time": "2021-11-16T10:03:03.074Z"
   },
   {
    "duration": 3,
    "start_time": "2021-11-16T10:10:01.288Z"
   },
   {
    "duration": 3,
    "start_time": "2021-11-16T10:10:46.923Z"
   },
   {
    "duration": 121,
    "start_time": "2021-11-16T10:37:46.494Z"
   },
   {
    "duration": 125,
    "start_time": "2021-11-16T10:38:20.632Z"
   },
   {
    "duration": 112,
    "start_time": "2021-11-16T10:46:53.001Z"
   },
   {
    "duration": 110,
    "start_time": "2021-11-16T10:48:25.775Z"
   },
   {
    "duration": 3,
    "start_time": "2021-11-16T10:50:18.720Z"
   },
   {
    "duration": 4,
    "start_time": "2021-11-16T10:50:37.649Z"
   },
   {
    "duration": 2,
    "start_time": "2021-11-16T10:50:51.884Z"
   },
   {
    "duration": 3,
    "start_time": "2021-11-16T10:51:56.237Z"
   },
   {
    "duration": 101,
    "start_time": "2021-11-16T10:53:13.791Z"
   },
   {
    "duration": 3,
    "start_time": "2021-11-16T10:55:59.186Z"
   },
   {
    "duration": 3,
    "start_time": "2021-11-16T10:56:10.751Z"
   },
   {
    "duration": 3,
    "start_time": "2021-11-16T10:56:49.038Z"
   },
   {
    "duration": 3,
    "start_time": "2021-11-16T10:56:49.174Z"
   },
   {
    "duration": 4,
    "start_time": "2021-11-16T10:56:49.414Z"
   },
   {
    "duration": 3,
    "start_time": "2021-11-16T10:56:49.680Z"
   },
   {
    "duration": 3,
    "start_time": "2021-11-16T10:56:50.370Z"
   },
   {
    "duration": 114,
    "start_time": "2021-11-16T10:59:34.518Z"
   },
   {
    "duration": 3,
    "start_time": "2021-11-16T11:01:41.201Z"
   },
   {
    "duration": 116,
    "start_time": "2021-11-16T11:01:48.754Z"
   },
   {
    "duration": 3,
    "start_time": "2021-11-16T11:02:16.685Z"
   },
   {
    "duration": 3,
    "start_time": "2021-11-16T11:02:19.479Z"
   },
   {
    "duration": 3,
    "start_time": "2021-11-16T11:02:47.067Z"
   },
   {
    "duration": 3,
    "start_time": "2021-11-16T11:02:49.353Z"
   },
   {
    "duration": 3,
    "start_time": "2021-11-16T11:03:07.835Z"
   },
   {
    "duration": 3,
    "start_time": "2021-11-16T11:03:07.953Z"
   },
   {
    "duration": 112,
    "start_time": "2021-11-16T11:07:52.072Z"
   },
   {
    "duration": 187,
    "start_time": "2021-11-16T11:09:23.468Z"
   },
   {
    "duration": 4,
    "start_time": "2021-11-16T11:10:01.455Z"
   },
   {
    "duration": 3,
    "start_time": "2021-11-16T11:10:05.069Z"
   },
   {
    "duration": 4,
    "start_time": "2021-11-16T11:10:13.376Z"
   },
   {
    "duration": 3,
    "start_time": "2021-11-16T11:10:14.434Z"
   },
   {
    "duration": 3,
    "start_time": "2021-11-16T11:10:22.853Z"
   },
   {
    "duration": 4,
    "start_time": "2021-11-16T11:27:29.279Z"
   },
   {
    "duration": 4,
    "start_time": "2021-11-16T11:29:08.919Z"
   },
   {
    "duration": 118,
    "start_time": "2021-11-16T11:29:46.703Z"
   },
   {
    "duration": 437,
    "start_time": "2021-11-16T11:36:02.181Z"
   },
   {
    "duration": 157,
    "start_time": "2021-11-16T11:36:14.388Z"
   },
   {
    "duration": 207,
    "start_time": "2021-11-16T11:47:15.898Z"
   },
   {
    "duration": 3,
    "start_time": "2021-11-16T11:53:52.092Z"
   },
   {
    "duration": 3,
    "start_time": "2021-11-16T11:53:52.236Z"
   },
   {
    "duration": 3,
    "start_time": "2021-11-16T11:59:12.005Z"
   },
   {
    "duration": 112,
    "start_time": "2021-11-16T12:00:33.446Z"
   },
   {
    "duration": 3,
    "start_time": "2021-11-16T12:02:14.453Z"
   },
   {
    "duration": 3,
    "start_time": "2021-11-16T12:02:39.512Z"
   },
   {
    "duration": 106,
    "start_time": "2021-11-16T12:03:03.460Z"
   },
   {
    "duration": 3,
    "start_time": "2021-11-17T20:37:21.139Z"
   },
   {
    "duration": 3,
    "start_time": "2021-11-17T20:37:22.229Z"
   },
   {
    "duration": 3,
    "start_time": "2021-11-17T20:38:38.806Z"
   },
   {
    "duration": 3,
    "start_time": "2021-11-17T20:38:41.958Z"
   },
   {
    "duration": 3,
    "start_time": "2021-11-17T20:43:46.551Z"
   },
   {
    "duration": 4,
    "start_time": "2021-11-17T20:58:21.835Z"
   },
   {
    "duration": 3,
    "start_time": "2021-11-17T20:59:21.872Z"
   },
   {
    "duration": 4,
    "start_time": "2021-11-17T20:59:45.352Z"
   },
   {
    "duration": 4,
    "start_time": "2021-11-17T20:59:49.646Z"
   },
   {
    "duration": 159,
    "start_time": "2021-11-17T21:02:26.949Z"
   },
   {
    "duration": 3,
    "start_time": "2021-11-17T21:03:53.461Z"
   },
   {
    "duration": 3,
    "start_time": "2021-11-17T21:03:53.694Z"
   },
   {
    "duration": 3,
    "start_time": "2021-11-17T21:05:28.145Z"
   },
   {
    "duration": 116,
    "start_time": "2021-11-17T21:05:57.787Z"
   },
   {
    "duration": 3,
    "start_time": "2021-11-17T21:06:37.993Z"
   },
   {
    "duration": 3,
    "start_time": "2021-11-17T21:06:38.261Z"
   },
   {
    "duration": 3,
    "start_time": "2021-11-17T21:11:54.358Z"
   },
   {
    "duration": 3,
    "start_time": "2021-11-17T21:12:43.846Z"
   },
   {
    "duration": 4,
    "start_time": "2021-11-17T21:13:08.773Z"
   },
   {
    "duration": 3,
    "start_time": "2021-11-17T21:14:44.441Z"
   },
   {
    "duration": 3,
    "start_time": "2021-11-17T21:15:42.059Z"
   },
   {
    "duration": 4,
    "start_time": "2021-11-17T21:15:51.995Z"
   },
   {
    "duration": 3,
    "start_time": "2021-11-17T21:15:53.923Z"
   },
   {
    "duration": 3,
    "start_time": "2021-11-17T21:15:55.282Z"
   },
   {
    "duration": 3,
    "start_time": "2021-11-17T21:16:28.492Z"
   },
   {
    "duration": 3,
    "start_time": "2021-11-17T21:16:32.603Z"
   },
   {
    "duration": 3,
    "start_time": "2021-11-17T21:17:06.941Z"
   },
   {
    "duration": 98,
    "start_time": "2021-11-17T21:18:05.733Z"
   },
   {
    "duration": 4,
    "start_time": "2021-11-17T21:21:35.255Z"
   },
   {
    "duration": 3,
    "start_time": "2021-11-17T21:21:37.804Z"
   },
   {
    "duration": 4,
    "start_time": "2021-11-17T21:23:06.071Z"
   },
   {
    "duration": 3,
    "start_time": "2021-11-17T21:23:24.799Z"
   },
   {
    "duration": 3,
    "start_time": "2021-11-17T21:23:32.591Z"
   },
   {
    "duration": 98,
    "start_time": "2021-11-17T21:28:31.559Z"
   },
   {
    "duration": 3,
    "start_time": "2021-11-17T21:28:45.448Z"
   },
   {
    "duration": 3,
    "start_time": "2021-11-17T21:29:17.303Z"
   },
   {
    "duration": 3,
    "start_time": "2021-11-17T21:29:29.617Z"
   },
   {
    "duration": 3,
    "start_time": "2021-11-17T21:29:32.681Z"
   },
   {
    "duration": 3,
    "start_time": "2021-11-17T21:36:11.474Z"
   },
   {
    "duration": 3,
    "start_time": "2021-11-17T21:36:14.791Z"
   },
   {
    "duration": 3,
    "start_time": "2021-11-17T21:36:53.943Z"
   },
   {
    "duration": 3,
    "start_time": "2021-11-17T21:36:56.165Z"
   },
   {
    "duration": 4,
    "start_time": "2021-11-17T21:37:16.590Z"
   },
   {
    "duration": 3,
    "start_time": "2021-11-17T21:37:22.702Z"
   },
   {
    "duration": 4,
    "start_time": "2021-11-17T21:38:03.479Z"
   },
   {
    "duration": 3,
    "start_time": "2021-11-17T21:38:08.601Z"
   },
   {
    "duration": 3,
    "start_time": "2021-11-17T21:38:12.928Z"
   },
   {
    "duration": 3,
    "start_time": "2021-11-17T21:38:48.896Z"
   },
   {
    "duration": 2,
    "start_time": "2021-11-17T21:38:49.171Z"
   },
   {
    "duration": 4,
    "start_time": "2021-11-17T21:39:57.889Z"
   },
   {
    "duration": 3,
    "start_time": "2021-11-17T21:39:58.057Z"
   },
   {
    "duration": 3,
    "start_time": "2021-11-17T21:41:20.108Z"
   },
   {
    "duration": 3,
    "start_time": "2021-11-17T21:41:20.629Z"
   },
   {
    "duration": 3,
    "start_time": "2021-11-17T21:42:49.136Z"
   },
   {
    "duration": 3,
    "start_time": "2021-11-17T21:43:15.137Z"
   },
   {
    "duration": 4,
    "start_time": "2021-11-17T21:43:16.766Z"
   },
   {
    "duration": 4,
    "start_time": "2021-11-17T21:43:31.711Z"
   },
   {
    "duration": 3,
    "start_time": "2021-11-17T21:43:36.312Z"
   },
   {
    "duration": 4,
    "start_time": "2021-11-17T21:45:08.825Z"
   },
   {
    "duration": 4,
    "start_time": "2021-11-17T21:45:10.119Z"
   },
   {
    "duration": 4,
    "start_time": "2021-11-17T21:45:13.748Z"
   },
   {
    "duration": 3,
    "start_time": "2021-11-17T21:45:22.219Z"
   },
   {
    "duration": 3,
    "start_time": "2021-11-17T21:45:33.412Z"
   },
   {
    "duration": 2,
    "start_time": "2021-11-17T21:46:01.885Z"
   },
   {
    "duration": 3,
    "start_time": "2021-11-17T21:46:03.628Z"
   },
   {
    "duration": 107,
    "start_time": "2021-11-17T21:47:32.512Z"
   },
   {
    "duration": 103,
    "start_time": "2021-11-17T21:50:36.243Z"
   },
   {
    "duration": 3,
    "start_time": "2021-11-18T06:28:31.440Z"
   },
   {
    "duration": 3,
    "start_time": "2021-11-18T06:29:00.168Z"
   },
   {
    "duration": 3,
    "start_time": "2021-11-18T06:31:27.008Z"
   },
   {
    "duration": 2,
    "start_time": "2021-11-18T06:35:34.288Z"
   },
   {
    "duration": 2,
    "start_time": "2021-11-18T06:38:04.527Z"
   }
  ],
  "colab": {
   "provenance": []
  },
  "kernelspec": {
   "display_name": "Python 3 (ipykernel)",
   "language": "python",
   "name": "python3"
  },
  "language_info": {
   "codemirror_mode": {
    "name": "ipython",
    "version": 3
   },
   "file_extension": ".py",
   "mimetype": "text/x-python",
   "name": "python",
   "nbconvert_exporter": "python",
   "pygments_lexer": "ipython3",
   "version": "3.9.23"
  },
  "toc": {
   "base_numbering": 1,
   "nav_menu": {},
   "number_sections": true,
   "sideBar": true,
   "skip_h1_title": false,
   "title_cell": "Table of Contents",
   "title_sidebar": "Contents",
   "toc_cell": false,
   "toc_position": {},
   "toc_section_display": true,
   "toc_window_display": true
  }
 },
 "nbformat": 4,
 "nbformat_minor": 4
}
